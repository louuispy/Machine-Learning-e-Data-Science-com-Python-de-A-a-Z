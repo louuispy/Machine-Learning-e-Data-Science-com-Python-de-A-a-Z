{
 "cells": [
  {
   "cell_type": "markdown",
   "id": "022082bb",
   "metadata": {},
   "source": [
    "# Machine Learning e Data Science com Python de A à Z"
   ]
  },
  {
   "cell_type": "markdown",
   "id": "be801532",
   "metadata": {},
   "source": [
    "# Classificação de textos com spaCy"
   ]
  },
  {
   "cell_type": "markdown",
   "id": "96058c30",
   "metadata": {},
   "source": [
    "## Etapa 1: Importação e instalçao das bibliotecas"
   ]
  },
  {
   "cell_type": "code",
   "execution_count": 1,
   "id": "f2fde27c",
   "metadata": {},
   "outputs": [
    {
     "data": {
      "text/plain": [
       "'3.7.4'"
      ]
     },
     "execution_count": 1,
     "metadata": {},
     "output_type": "execute_result"
    }
   ],
   "source": [
    "import spacy\n",
    "spacy.__version__"
   ]
  },
  {
   "cell_type": "code",
   "execution_count": 2,
   "id": "dcc25987",
   "metadata": {},
   "outputs": [],
   "source": [
    "import pandas as pd\n",
    "import string\n",
    "import spacy\n",
    "import random\n",
    "import seaborn as sns\n",
    "import numpy as np"
   ]
  },
  {
   "cell_type": "markdown",
   "id": "abed5324",
   "metadata": {},
   "source": [
    "## Etapa 2: Carregamento da base de dados"
   ]
  },
  {
   "cell_type": "code",
   "execution_count": 3,
   "id": "5f887727",
   "metadata": {},
   "outputs": [],
   "source": [
    "base_dados = pd.read_csv('base_treinamento.txt', encoding = 'utf-8')"
   ]
  },
  {
   "cell_type": "code",
   "execution_count": 4,
   "id": "f7c0351a",
   "metadata": {},
   "outputs": [
    {
     "data": {
      "text/plain": [
       "(196, 2)"
      ]
     },
     "execution_count": 4,
     "metadata": {},
     "output_type": "execute_result"
    }
   ],
   "source": [
    "base_dados.shape"
   ]
  },
  {
   "cell_type": "code",
   "execution_count": 5,
   "id": "11c0fe50",
   "metadata": {},
   "outputs": [
    {
     "data": {
      "text/html": [
       "<div>\n",
       "<style scoped>\n",
       "    .dataframe tbody tr th:only-of-type {\n",
       "        vertical-align: middle;\n",
       "    }\n",
       "\n",
       "    .dataframe tbody tr th {\n",
       "        vertical-align: top;\n",
       "    }\n",
       "\n",
       "    .dataframe thead th {\n",
       "        text-align: right;\n",
       "    }\n",
       "</style>\n",
       "<table border=\"1\" class=\"dataframe\">\n",
       "  <thead>\n",
       "    <tr style=\"text-align: right;\">\n",
       "      <th></th>\n",
       "      <th>texto</th>\n",
       "      <th>emocao</th>\n",
       "    </tr>\n",
       "  </thead>\n",
       "  <tbody>\n",
       "    <tr>\n",
       "      <th>0</th>\n",
       "      <td>este trabalho é agradável</td>\n",
       "      <td>alegria</td>\n",
       "    </tr>\n",
       "    <tr>\n",
       "      <th>1</th>\n",
       "      <td>gosto de ficar no seu aconchego</td>\n",
       "      <td>alegria</td>\n",
       "    </tr>\n",
       "    <tr>\n",
       "      <th>2</th>\n",
       "      <td>fiz a adesão ao curso hoje</td>\n",
       "      <td>alegria</td>\n",
       "    </tr>\n",
       "    <tr>\n",
       "      <th>3</th>\n",
       "      <td>eu sou admirada por muitos</td>\n",
       "      <td>alegria</td>\n",
       "    </tr>\n",
       "    <tr>\n",
       "      <th>4</th>\n",
       "      <td>adoro como você</td>\n",
       "      <td>alegria</td>\n",
       "    </tr>\n",
       "  </tbody>\n",
       "</table>\n",
       "</div>"
      ],
      "text/plain": [
       "                             texto   emocao\n",
       "0        este trabalho é agradável  alegria\n",
       "1  gosto de ficar no seu aconchego  alegria\n",
       "2       fiz a adesão ao curso hoje  alegria\n",
       "3       eu sou admirada por muitos  alegria\n",
       "4                  adoro como você  alegria"
      ]
     },
     "execution_count": 5,
     "metadata": {},
     "output_type": "execute_result"
    }
   ],
   "source": [
    "base_dados.head()"
   ]
  },
  {
   "cell_type": "code",
   "execution_count": 6,
   "id": "ac6355e4",
   "metadata": {},
   "outputs": [
    {
     "data": {
      "text/html": [
       "<div>\n",
       "<style scoped>\n",
       "    .dataframe tbody tr th:only-of-type {\n",
       "        vertical-align: middle;\n",
       "    }\n",
       "\n",
       "    .dataframe tbody tr th {\n",
       "        vertical-align: top;\n",
       "    }\n",
       "\n",
       "    .dataframe thead th {\n",
       "        text-align: right;\n",
       "    }\n",
       "</style>\n",
       "<table border=\"1\" class=\"dataframe\">\n",
       "  <thead>\n",
       "    <tr style=\"text-align: right;\">\n",
       "      <th></th>\n",
       "      <th>texto</th>\n",
       "      <th>emocao</th>\n",
       "    </tr>\n",
       "  </thead>\n",
       "  <tbody>\n",
       "    <tr>\n",
       "      <th>191</th>\n",
       "      <td>estou chocado e amedrontado com este assassina...</td>\n",
       "      <td>medo</td>\n",
       "    </tr>\n",
       "    <tr>\n",
       "      <th>192</th>\n",
       "      <td>é preciso afugenta com ímpeto este medo do inf...</td>\n",
       "      <td>medo</td>\n",
       "    </tr>\n",
       "    <tr>\n",
       "      <th>193</th>\n",
       "      <td>políticos usam suas forças para afugentar e am...</td>\n",
       "      <td>medo</td>\n",
       "    </tr>\n",
       "    <tr>\n",
       "      <th>194</th>\n",
       "      <td>o objetivo disso e apenas me amedrontar mais</td>\n",
       "      <td>medo</td>\n",
       "    </tr>\n",
       "    <tr>\n",
       "      <th>195</th>\n",
       "      <td>isso me apavora</td>\n",
       "      <td>medo</td>\n",
       "    </tr>\n",
       "  </tbody>\n",
       "</table>\n",
       "</div>"
      ],
      "text/plain": [
       "                                                 texto emocao\n",
       "191  estou chocado e amedrontado com este assassina...   medo\n",
       "192  é preciso afugenta com ímpeto este medo do inf...   medo\n",
       "193  políticos usam suas forças para afugentar e am...   medo\n",
       "194       o objetivo disso e apenas me amedrontar mais   medo\n",
       "195                                    isso me apavora   medo"
      ]
     },
     "execution_count": 6,
     "metadata": {},
     "output_type": "execute_result"
    }
   ],
   "source": [
    "base_dados.tail()"
   ]
  },
  {
   "cell_type": "code",
   "execution_count": 7,
   "id": "94c584c8",
   "metadata": {},
   "outputs": [
    {
     "data": {
      "text/plain": [
       "alegria    112\n",
       "medo        84\n",
       "Name: emocao, dtype: int64"
      ]
     },
     "execution_count": 7,
     "metadata": {},
     "output_type": "execute_result"
    }
   ],
   "source": [
    "base_dados['emocao'].value_counts()"
   ]
  },
  {
   "cell_type": "code",
   "execution_count": 8,
   "id": "f95bf742",
   "metadata": {},
   "outputs": [],
   "source": [
    "x = base_dados['emocao'].value_counts()\n",
    "y = base_dados['emocao'].value_counts()"
   ]
  },
  {
   "cell_type": "code",
   "execution_count": 9,
   "id": "7ee9e2e3",
   "metadata": {},
   "outputs": [
    {
     "data": {
      "image/png": "[encoded data removed]",
      "text/plain": [
       "<Figure size 640x480 with 1 Axes>"
      ]
     },
     "metadata": {},
     "output_type": "display_data"
    }
   ],
   "source": [
    "import matplotlib.pyplot as plt\n",
    "colors = ['blue', 'orange']\n",
    "plt.bar(x.index, y, color=colors)\n",
    "plt.xlabel('Emoções')\n",
    "plt.show()"
   ]
  },
  {
   "cell_type": "markdown",
   "id": "08c7b87d",
   "metadata": {},
   "source": [
    "## Etapa 3: Função para pré-processamento dos textos"
   ]
  },
  {
   "cell_type": "code",
   "execution_count": 10,
   "id": "6263e28f",
   "metadata": {},
   "outputs": [
    {
     "data": {
      "text/plain": [
       "'!\"#$%&\\'()*+,-./:;<=>?@[\\\\]^_`{|}~'"
      ]
     },
     "execution_count": 10,
     "metadata": {},
     "output_type": "execute_result"
    }
   ],
   "source": [
    "pontuacoes = string.punctuation\n",
    "pontuacoes"
   ]
  },
  {
   "cell_type": "code",
   "execution_count": 11,
   "id": "7610da69",
   "metadata": {},
   "outputs": [],
   "source": [
    "from spacy.lang.pt.stop_words import STOP_WORDS\n",
    "stop_words = STOP_WORDS"
   ]
  },
  {
   "cell_type": "code",
   "execution_count": 12,
   "id": "5c936d3c",
   "metadata": {},
   "outputs": [
    {
     "name": "stdout",
     "output_type": "stream",
     "text": [
      "{'tempo', 'são', 'três', 'aquelas', 'desse', 'aquela', 'sim', 'inicio', 'fostes', 'inclusive', 'números', 'tendes', 'umas', 'usa', 'ainda', 'maioria', 'vossos', 'meu', 'mês', 'estás', 'em', 'com', 'nossa', 'podia', 'onde', 'nossos', 'minha', 'fazem', 'forma', 'somos', 'custa', 'tente', 'cá', 'dezanove', 'povo', 'próximo', 'sabe', 'cinco', 'certamente', 'zero', 'desde', 'direita', 'nenhuma', 'partir', 'nas', 'fim', 'agora', 'breve', 'dessa', 'foi', 'além', 'fez', 'eles', 'estava', 'tipo', 'certeza', 'como', 'quê', 'ora', 'embora', 'sem', 'próprio', 'vindo', 'vez', 'segundo', 'oitavo', 'estou', 'por', 'se', 'vós', 'nesse', 'então', 'novos', 'parte', 'poder', 'terceiro', 'fazia', 'foste', 'numa', 'estão', 'pôde', 'estiveste', 'iniciar', 'duas', 'estivestes', 'lado', 'conselho', 'conhecida', 'grande', 'diz', 'dizer', 'e', 'põem', 'cedo', 'tiveram', 'teu', 'novas', 'ser', 'quieta', 'pouca', 'é', 'longe', 'maiorias', 'seis', 'dezoito', 'já', 'bastante', 'vários', 'contra', 'quarto', 'vezes', 'aquele', 'pelos', 'pouco', 'têm', 'para', 'os', 'enquanto', 'nem', 'catorze', 'esses', 'outros', 'final', 'das', 'debaixo', 'ligado', 'quero', 'lá', 'ter', 'ir', 'muitos', 'teus', 'quieto', 'nada', 'tuas', 'até', 'geral', 'outras', 'eventual', 'minhas', 'nosso', 'parece', 'pontos', 'sois', 'tanto', 'através', 'daquela', 'cuja', 'cujo', 'põe', 'sistema', 'vão', 'do', 'des', 'sete', 'for', 'estar', 'sobre', 'fomos', 'as', 'obrigada', 'ela', 'tens', 'fora', 'uns', 'usar', 'posso', 'está', 'não', 'porém', 'tarde', 'lhe', 'lugar', 'pois', 'tivestes', 'deverá', 'tive', 'qual', 'dizem', 'área', 'vai', 'és', 'menos', 'essa', 'quando', 'querem', 'oito', 'antes', 'suas', 'doze', 'tentaram', 'ponto', 'poderá', 'cada', 'vocês', 'perto', 'ambas', 'terceira', 'nós', 'uma', 'tivemos', 'tenho', 'entre', 'ontem', 'nova', 'relação', 'portanto', 'diante', 'assim', 'na', 'estes', 'ele', 'neste', 'alguns', 'atrás', 'aqui', 'quais', 'boa', 'questão', 'algo', 'elas', 'segunda', 'local', 'posição', 'primeiro', 'deve', 'esta', 'caminho', 'máximo', 'logo', 'vais', 'eu', 'treze', 'falta', 'outra', 'estas', 'dentro', 'vêm', 'fazes', 'essas', 'onze', 'no', 'tanta', 'foram', 'dois', 'também', 'dá', 'muito', 'esteve', 'apenas', 'aí', 'tiveste', 'este', 'tentar', 'nove', 'ali', 'adeus', 'quanto', 'grandes', 'fui', 'número', 'porque', 'todos', 'pelo', 'cento', 'novo', 'nuns', 'nesta', 'baixo', 'tal', 'possivelmente', 'teve', 'acerca', 'ambos', 'te', 'quem', 'toda', 'aqueles', 'tem', 'irá', 'bem', 'sob', 'ver', 'bom', 'pela', 'pode', 'grupo', 'coisa', 'meses', 'a', 'possível', 'tu', 'nos', 'obrigado', 'sétima', 'ademais', 'corrente', 'mil', 'vosso', 'sexto', 'estará', 'quer', 'podem', 'sou', 'sétimo', 'dos', 'seu', 'ao', 'disso', 'fazemos', 'dar', 'o', 'algumas', 'só', 'comprida', 'faço', 'isso', 'apoio', 'dezassete', 'à', 'mesmo', 'sua', 'num', 'aos', 'naquela', 'ou', 'estiveram', 'sei', 'tudo', 'estivemos', 'todo', 'vens', 'fará', 'nunca', 'quarta', 'dezasseis', 'somente', 'vem', 'apontar', 'fazeis', 'desta', 'oitava', 'quatro', 'maior', 'naquele', 'menor', 'vossas', 'valor', 'quinto', 'nossas', 'puderam', 'estive', 'último', 'meio', 'da', 'mal', 'porquanto', 'demais', 'mais', 'mas', 'dez', 'porquê', 'qualquer', 'que', 'pelas', 'tão', 'meus', 'cima', 'momento', 'saber', 'vinte', 'quinze', 'veja', 'seria', 'de', 'após', 'vos', 'aquilo', 'estado', 'temos', 'nessa', 'todas', 'às', 'próxima', 'pegar', 'quinta', 'seus', 'vossa', 'era', 'sexta', 'tentei', 'tua', 'esse', 'exemplo', 'depois', 'dão', 'devem', 'isto', 'fazer', 'você', 'me', 'daquele', 'conhecido', 'tais', 'favor', 'deste', 'apoia', 'vinda', 'contudo', 'comprido', 'um', 'nível', 'primeira', 'faz', 'talvez', 'sempre'}\n"
     ]
    }
   ],
   "source": [
    "print(stop_words)"
   ]
  },
  {
   "cell_type": "code",
   "execution_count": 13,
   "id": "8fc5c053",
   "metadata": {},
   "outputs": [
    {
     "data": {
      "text/plain": [
       "416"
      ]
     },
     "execution_count": 13,
     "metadata": {},
     "output_type": "execute_result"
    }
   ],
   "source": [
    "len(stop_words)"
   ]
  },
  {
   "cell_type": "code",
   "execution_count": 14,
   "id": "f8647b4f",
   "metadata": {},
   "outputs": [
    {
     "data": {
      "text/plain": [
       "<spacy.lang.pt.Portuguese at 0x1ae69407340>"
      ]
     },
     "execution_count": 14,
     "metadata": {},
     "output_type": "execute_result"
    }
   ],
   "source": [
    "pln = spacy.load('pt_core_news_sm')\n",
    "pln"
   ]
  },
  {
   "cell_type": "code",
   "execution_count": 15,
   "id": "8b4f449d",
   "metadata": {},
   "outputs": [],
   "source": [
    "def preprocessamento(texto):\n",
    "    texto = texto.lower()\n",
    "    documento = pln(texto)\n",
    "    \n",
    "    lista = []\n",
    "    for token in documento:\n",
    "        # lista.append(token.text)\n",
    "        lista.append(token.lemma_)\n",
    "        \n",
    "    lista = [palavra for palavra in lista if palavra not in stop_words and palavra not in pontuacoes]\n",
    "    lista = ' '.join([str(elemento) for elemento in lista if not elemento.isdigit()])\n",
    "    \n",
    "    return lista"
   ]
  },
  {
   "cell_type": "code",
   "execution_count": 16,
   "id": "481a2deb",
   "metadata": {},
   "outputs": [
    {
     "data": {
      "text/plain": [
       "'aprender processamento linguagem natural curso fortaleza'"
      ]
     },
     "execution_count": 16,
     "metadata": {},
     "output_type": "execute_result"
    }
   ],
   "source": [
    "teste = preprocessamento('Estou aprendendo 1 10 23 74 processamento de linguagem natural, curso em Fortaleza')\n",
    "teste"
   ]
  },
  {
   "cell_type": "markdown",
   "id": "16bc816e",
   "metadata": {},
   "source": [
    "## Etapa 4: Pré-processamento da base de dados"
   ]
  },
  {
   "cell_type": "markdown",
   "id": "91691fc3",
   "metadata": {},
   "source": [
    "### Limpeza dos textos"
   ]
  },
  {
   "cell_type": "code",
   "execution_count": 17,
   "id": "1443044d",
   "metadata": {},
   "outputs": [
    {
     "data": {
      "text/html": [
       "<div>\n",
       "<style scoped>\n",
       "    .dataframe tbody tr th:only-of-type {\n",
       "        vertical-align: middle;\n",
       "    }\n",
       "\n",
       "    .dataframe tbody tr th {\n",
       "        vertical-align: top;\n",
       "    }\n",
       "\n",
       "    .dataframe thead th {\n",
       "        text-align: right;\n",
       "    }\n",
       "</style>\n",
       "<table border=\"1\" class=\"dataframe\">\n",
       "  <thead>\n",
       "    <tr style=\"text-align: right;\">\n",
       "      <th></th>\n",
       "      <th>texto</th>\n",
       "      <th>emocao</th>\n",
       "    </tr>\n",
       "  </thead>\n",
       "  <tbody>\n",
       "    <tr>\n",
       "      <th>0</th>\n",
       "      <td>este trabalho é agradável</td>\n",
       "      <td>alegria</td>\n",
       "    </tr>\n",
       "    <tr>\n",
       "      <th>1</th>\n",
       "      <td>gosto de ficar no seu aconchego</td>\n",
       "      <td>alegria</td>\n",
       "    </tr>\n",
       "    <tr>\n",
       "      <th>2</th>\n",
       "      <td>fiz a adesão ao curso hoje</td>\n",
       "      <td>alegria</td>\n",
       "    </tr>\n",
       "    <tr>\n",
       "      <th>3</th>\n",
       "      <td>eu sou admirada por muitos</td>\n",
       "      <td>alegria</td>\n",
       "    </tr>\n",
       "    <tr>\n",
       "      <th>4</th>\n",
       "      <td>adoro como você</td>\n",
       "      <td>alegria</td>\n",
       "    </tr>\n",
       "    <tr>\n",
       "      <th>5</th>\n",
       "      <td>adoro seu cabelo macio</td>\n",
       "      <td>alegria</td>\n",
       "    </tr>\n",
       "    <tr>\n",
       "      <th>6</th>\n",
       "      <td>adoro a cor dos seus olhos</td>\n",
       "      <td>alegria</td>\n",
       "    </tr>\n",
       "    <tr>\n",
       "      <th>7</th>\n",
       "      <td>somo tão amáveis um com o outro</td>\n",
       "      <td>alegria</td>\n",
       "    </tr>\n",
       "    <tr>\n",
       "      <th>8</th>\n",
       "      <td>sinto uma grande afeição por ele</td>\n",
       "      <td>alegria</td>\n",
       "    </tr>\n",
       "    <tr>\n",
       "      <th>9</th>\n",
       "      <td>quero agradar meus filhos</td>\n",
       "      <td>alegria</td>\n",
       "    </tr>\n",
       "  </tbody>\n",
       "</table>\n",
       "</div>"
      ],
      "text/plain": [
       "                              texto   emocao\n",
       "0         este trabalho é agradável  alegria\n",
       "1   gosto de ficar no seu aconchego  alegria\n",
       "2        fiz a adesão ao curso hoje  alegria\n",
       "3        eu sou admirada por muitos  alegria\n",
       "4                   adoro como você  alegria\n",
       "5            adoro seu cabelo macio  alegria\n",
       "6        adoro a cor dos seus olhos  alegria\n",
       "7   somo tão amáveis um com o outro  alegria\n",
       "8  sinto uma grande afeição por ele  alegria\n",
       "9         quero agradar meus filhos  alegria"
      ]
     },
     "execution_count": 17,
     "metadata": {},
     "output_type": "execute_result"
    }
   ],
   "source": [
    "base_dados.head(10)"
   ]
  },
  {
   "cell_type": "code",
   "execution_count": 18,
   "id": "0ca8b82f",
   "metadata": {},
   "outputs": [],
   "source": [
    "base_dados['texto'] = base_dados['texto'].apply(preprocessamento)"
   ]
  },
  {
   "cell_type": "code",
   "execution_count": 19,
   "id": "20858044",
   "metadata": {},
   "outputs": [
    {
     "data": {
      "text/html": [
       "<div>\n",
       "<style scoped>\n",
       "    .dataframe tbody tr th:only-of-type {\n",
       "        vertical-align: middle;\n",
       "    }\n",
       "\n",
       "    .dataframe tbody tr th {\n",
       "        vertical-align: top;\n",
       "    }\n",
       "\n",
       "    .dataframe thead th {\n",
       "        text-align: right;\n",
       "    }\n",
       "</style>\n",
       "<table border=\"1\" class=\"dataframe\">\n",
       "  <thead>\n",
       "    <tr style=\"text-align: right;\">\n",
       "      <th></th>\n",
       "      <th>texto</th>\n",
       "      <th>emocao</th>\n",
       "    </tr>\n",
       "  </thead>\n",
       "  <tbody>\n",
       "    <tr>\n",
       "      <th>0</th>\n",
       "      <td>trabalho agradável</td>\n",
       "      <td>alegria</td>\n",
       "    </tr>\n",
       "    <tr>\n",
       "      <th>1</th>\n",
       "      <td>gosto ficar em o aconchego</td>\n",
       "      <td>alegria</td>\n",
       "    </tr>\n",
       "    <tr>\n",
       "      <th>2</th>\n",
       "      <td>fiz adesão a o curso hoje</td>\n",
       "      <td>alegria</td>\n",
       "    </tr>\n",
       "    <tr>\n",
       "      <th>3</th>\n",
       "      <td>admirar</td>\n",
       "      <td>alegria</td>\n",
       "    </tr>\n",
       "    <tr>\n",
       "      <th>4</th>\n",
       "      <td>adorar</td>\n",
       "      <td>alegria</td>\n",
       "    </tr>\n",
       "    <tr>\n",
       "      <th>5</th>\n",
       "      <td>adorar cabelo macio</td>\n",
       "      <td>alegria</td>\n",
       "    </tr>\n",
       "    <tr>\n",
       "      <th>6</th>\n",
       "      <td>adorar cor de o olho</td>\n",
       "      <td>alegria</td>\n",
       "    </tr>\n",
       "    <tr>\n",
       "      <th>7</th>\n",
       "      <td>somo amável outro</td>\n",
       "      <td>alegria</td>\n",
       "    </tr>\n",
       "    <tr>\n",
       "      <th>8</th>\n",
       "      <td>sinto afeição</td>\n",
       "      <td>alegria</td>\n",
       "    </tr>\n",
       "    <tr>\n",
       "      <th>9</th>\n",
       "      <td>querer agradar filho</td>\n",
       "      <td>alegria</td>\n",
       "    </tr>\n",
       "  </tbody>\n",
       "</table>\n",
       "</div>"
      ],
      "text/plain": [
       "                        texto   emocao\n",
       "0          trabalho agradável  alegria\n",
       "1  gosto ficar em o aconchego  alegria\n",
       "2   fiz adesão a o curso hoje  alegria\n",
       "3                     admirar  alegria\n",
       "4                      adorar  alegria\n",
       "5         adorar cabelo macio  alegria\n",
       "6        adorar cor de o olho  alegria\n",
       "7           somo amável outro  alegria\n",
       "8               sinto afeição  alegria\n",
       "9        querer agradar filho  alegria"
      ]
     },
     "execution_count": 19,
     "metadata": {},
     "output_type": "execute_result"
    }
   ],
   "source": [
    "base_dados.head(10)"
   ]
  },
  {
   "cell_type": "markdown",
   "id": "a248fbaa",
   "metadata": {},
   "source": [
    "### Tratamento da classe"
   ]
  },
  {
   "cell_type": "code",
   "execution_count": 20,
   "id": "9bc5b672",
   "metadata": {},
   "outputs": [],
   "source": [
    "exemplo_base_dados = [[\"este trabalho é agradável\", {\"ALEGRIA\": True, \"MEDO\": False}],\n",
    "                      [\"este lugar continua assustador\", {\"ALEGRIA\": False, \"MEDO\": True}]]"
   ]
  },
  {
   "cell_type": "code",
   "execution_count": 21,
   "id": "d35615db",
   "metadata": {},
   "outputs": [
    {
     "data": {
      "text/plain": [
       "list"
      ]
     },
     "execution_count": 21,
     "metadata": {},
     "output_type": "execute_result"
    }
   ],
   "source": [
    "type(exemplo_base_dados)"
   ]
  },
  {
   "cell_type": "code",
   "execution_count": 22,
   "id": "56fe88f7",
   "metadata": {},
   "outputs": [
    {
     "data": {
      "text/plain": [
       "['este trabalho é agradável', {'ALEGRIA': True, 'MEDO': False}]"
      ]
     },
     "execution_count": 22,
     "metadata": {},
     "output_type": "execute_result"
    }
   ],
   "source": [
    "exemplo_base_dados[0]"
   ]
  },
  {
   "cell_type": "code",
   "execution_count": 23,
   "id": "d23eafd3",
   "metadata": {},
   "outputs": [
    {
     "data": {
      "text/plain": [
       "'este trabalho é agradável'"
      ]
     },
     "execution_count": 23,
     "metadata": {},
     "output_type": "execute_result"
    }
   ],
   "source": [
    "exemplo_base_dados[0][0]"
   ]
  },
  {
   "cell_type": "code",
   "execution_count": 24,
   "id": "6bd2aa75",
   "metadata": {},
   "outputs": [
    {
     "data": {
      "text/plain": [
       "{'ALEGRIA': True, 'MEDO': False}"
      ]
     },
     "execution_count": 24,
     "metadata": {},
     "output_type": "execute_result"
    }
   ],
   "source": [
    "exemplo_base_dados[0][1]"
   ]
  },
  {
   "cell_type": "code",
   "execution_count": 25,
   "id": "dc418dfd",
   "metadata": {},
   "outputs": [
    {
     "data": {
      "text/plain": [
       "dict"
      ]
     },
     "execution_count": 25,
     "metadata": {},
     "output_type": "execute_result"
    }
   ],
   "source": [
    "type(exemplo_base_dados[0][1])"
   ]
  },
  {
   "cell_type": "code",
   "execution_count": 26,
   "id": "9b26d5fc",
   "metadata": {},
   "outputs": [],
   "source": [
    "base_dados_final = []\n",
    "\n",
    "for texto, emocao in zip(base_dados['texto'], base_dados['emocao']):\n",
    "    # print(texto, emocao)\n",
    "    if emocao == 'alegria':\n",
    "        dictionary = ({\"ALEGRIA\": True, \"MEDO\": False})\n",
    "    elif emocao == 'medo':\n",
    "        dictionary = ({\"ALEGRIA\": False, \"MEDO\": True})\n",
    "        \n",
    "    base_dados_final.append([texto, dictionary.copy()])"
   ]
  },
  {
   "cell_type": "code",
   "execution_count": 27,
   "id": "6702f743",
   "metadata": {},
   "outputs": [
    {
     "data": {
      "text/plain": [
       "196"
      ]
     },
     "execution_count": 27,
     "metadata": {},
     "output_type": "execute_result"
    }
   ],
   "source": [
    "len(base_dados_final)"
   ]
  },
  {
   "cell_type": "code",
   "execution_count": 28,
   "id": "51bf5db6",
   "metadata": {},
   "outputs": [
    {
     "data": {
      "text/plain": [
       "['trabalho agradável', {'ALEGRIA': True, 'MEDO': False}]"
      ]
     },
     "execution_count": 28,
     "metadata": {},
     "output_type": "execute_result"
    }
   ],
   "source": [
    "base_dados_final[0]"
   ]
  },
  {
   "cell_type": "code",
   "execution_count": 29,
   "id": "6f516ed4",
   "metadata": {},
   "outputs": [
    {
     "data": {
      "text/plain": [
       "'trabalho agradável'"
      ]
     },
     "execution_count": 29,
     "metadata": {},
     "output_type": "execute_result"
    }
   ],
   "source": [
    "base_dados_final[0][0]"
   ]
  },
  {
   "cell_type": "code",
   "execution_count": 30,
   "id": "84e7db23",
   "metadata": {},
   "outputs": [
    {
     "data": {
      "text/plain": [
       "{'ALEGRIA': True, 'MEDO': False}"
      ]
     },
     "execution_count": 30,
     "metadata": {},
     "output_type": "execute_result"
    }
   ],
   "source": [
    "base_dados_final[0][1]"
   ]
  },
  {
   "cell_type": "code",
   "execution_count": 31,
   "id": "3bdf33f0",
   "metadata": {},
   "outputs": [
    {
     "data": {
      "text/plain": [
       "dict"
      ]
     },
     "execution_count": 31,
     "metadata": {},
     "output_type": "execute_result"
    }
   ],
   "source": [
    "type(base_dados_final[0][1])"
   ]
  },
  {
   "cell_type": "code",
   "execution_count": 32,
   "id": "ee251696",
   "metadata": {},
   "outputs": [
    {
     "data": {
      "text/plain": [
       "[['trabalho agradável', {'ALEGRIA': True, 'MEDO': False}],\n",
       " ['gosto ficar em o aconchego', {'ALEGRIA': True, 'MEDO': False}],\n",
       " ['fiz adesão a o curso hoje', {'ALEGRIA': True, 'MEDO': False}],\n",
       " ['admirar', {'ALEGRIA': True, 'MEDO': False}],\n",
       " ['adorar', {'ALEGRIA': True, 'MEDO': False}],\n",
       " ['adorar cabelo macio', {'ALEGRIA': True, 'MEDO': False}],\n",
       " ['adorar cor de o olho', {'ALEGRIA': True, 'MEDO': False}],\n",
       " ['somo amável outro', {'ALEGRIA': True, 'MEDO': False}],\n",
       " ['sinto afeição', {'ALEGRIA': True, 'MEDO': False}],\n",
       " ['querer agradar filho', {'ALEGRIA': True, 'MEDO': False}],\n",
       " ['sinto completamente amar', {'ALEGRIA': True, 'MEDO': False}],\n",
       " ['amo', {'ALEGRIA': True, 'MEDO': False}],\n",
       " ['alívio', {'ALEGRIA': True, 'MEDO': False}],\n",
       " ['dor amenizar finalmente', {'ALEGRIA': True, 'MEDO': False}],\n",
       " ['achar apaixoneir', {'ALEGRIA': True, 'MEDO': False}],\n",
       " ['amar maravilhoso', {'ALEGRIA': True, 'MEDO': False}],\n",
       " ['sentir animar', {'ALEGRIA': True, 'MEDO': False}],\n",
       " ['sintar hoje', {'ALEGRIA': True, 'MEDO': False}],\n",
       " ['luar belo', {'ALEGRIA': True, 'MEDO': False}],\n",
       " ['dia bonito', {'ALEGRIA': True, 'MEDO': False}],\n",
       " ['afortunar', {'ALEGRIA': True, 'MEDO': False}],\n",
       " ['maravilha de o mundo', {'ALEGRIA': True, 'MEDO': False}],\n",
       " ['recebir carinho hoje de o colega', {'ALEGRIA': True, 'MEDO': False}],\n",
       " ['sentir reconfortar hoje', {'ALEGRIA': True, 'MEDO': False}],\n",
       " ['amigo', {'ALEGRIA': True, 'MEDO': False}],\n",
       " ['contente resultado de o teste', {'ALEGRIA': True, 'MEDO': False}],\n",
       " ['pintura brilhante', {'ALEGRIA': True, 'MEDO': False}],\n",
       " ['água abundância', {'ALEGRIA': True, 'MEDO': False}],\n",
       " ['roupa delicado', {'ALEGRIA': True, 'MEDO': False}],\n",
       " ['comediante', {'ALEGRIA': True, 'MEDO': False}],\n",
       " ['bondade vir', {'ALEGRIA': True, 'MEDO': False}],\n",
       " ['amor lir', {'ALEGRIA': True, 'MEDO': False}],\n",
       " ['amizade durar', {'ALEGRIA': True, 'MEDO': False}],\n",
       " ['eufórico notícia', {'ALEGRIA': True, 'MEDO': False}],\n",
       " ['realmente fiel', {'ALEGRIA': True, 'MEDO': False}],\n",
       " ['festa comemorar aniversário', {'ALEGRIA': True, 'MEDO': False}],\n",
       " ['graças deus enxerguei certo', {'ALEGRIA': True, 'MEDO': False}],\n",
       " ['escolha', {'ALEGRIA': True, 'MEDO': False}],\n",
       " ['incrível belo', {'ALEGRIA': True, 'MEDO': False}],\n",
       " ['engraçado explicar', {'ALEGRIA': True, 'MEDO': False}],\n",
       " ['emocionante em este', {'ALEGRIA': True, 'MEDO': False}],\n",
       " ['cativar por o olhar', {'ALEGRIA': True, 'MEDO': False}],\n",
       " ['loucamente apaixonar', {'ALEGRIA': True, 'MEDO': False}],\n",
       " ['dúvida', {'ALEGRIA': True, 'MEDO': False}],\n",
       " ['rodear por o abraço', {'ALEGRIA': True, 'MEDO': False}],\n",
       " ['vejo estrela por o', {'ALEGRIA': True, 'MEDO': False}],\n",
       " ['sintar sol', {'ALEGRIA': True, 'MEDO': False}],\n",
       " ['sorrir orelha orelha', {'ALEGRIA': True, 'MEDO': False}],\n",
       " ['valer pena', {'ALEGRIA': True, 'MEDO': False}],\n",
       " ['finalmente colocar amor', {'ALEGRIA': True, 'MEDO': False}],\n",
       " ['dançar noite adentro', {'ALEGRIA': True, 'MEDO': False}],\n",
       " ['amor brilhante', {'ALEGRIA': True, 'MEDO': False}],\n",
       " ['toquei coração durante', {'ALEGRIA': True, 'MEDO': False}],\n",
       " ['amiga companheiro', {'ALEGRIA': True, 'MEDO': False}],\n",
       " ['trazer volta vida', {'ALEGRIA': True, 'MEDO': False}],\n",
       " ['sonho doce', {'ALEGRIA': True, 'MEDO': False}],\n",
       " ['adorar doce fruta', {'ALEGRIA': True, 'MEDO': False}],\n",
       " ['suco favorito', {'ALEGRIA': True, 'MEDO': False}],\n",
       " ['agradecido por o ajuda', {'ALEGRIA': True, 'MEDO': False}],\n",
       " ['enorme prazer equipe', {'ALEGRIA': True, 'MEDO': False}],\n",
       " ['trabalhar equipe', {'ALEGRIA': True, 'MEDO': False}],\n",
       " ['sinto flutuar em o ar', {'ALEGRIA': True, 'MEDO': False}],\n",
       " ['brisa agradável hoje', {'ALEGRIA': True, 'MEDO': False}],\n",
       " ['compatível', {'ALEGRIA': True, 'MEDO': False}],\n",
       " ['compatível outro', {'ALEGRIA': True, 'MEDO': False}],\n",
       " ['órgão compatível paciente', {'ALEGRIA': True, 'MEDO': False}],\n",
       " ['contente aceitar em o faculdade', {'ALEGRIA': True, 'MEDO': False}],\n",
       " ['aprovar em o exame', {'ALEGRIA': True, 'MEDO': False}],\n",
       " ['beneficiar por o empresa', {'ALEGRIA': True, 'MEDO': False}],\n",
       " ['cativante', {'ALEGRIA': True, 'MEDO': False}],\n",
       " ['contente', {'ALEGRIA': True, 'MEDO': False}],\n",
       " ['confortável', {'ALEGRIA': True, 'MEDO': False}],\n",
       " ['quente em este frio', {'ALEGRIA': True, 'MEDO': False}],\n",
       " ['elogio', {'ALEGRIA': True, 'MEDO': False}],\n",
       " ['chamar comemorar', {'ALEGRIA': True, 'MEDO': False}],\n",
       " ['desejável presença apresentação', {'ALEGRIA': True, 'MEDO': False}],\n",
       " ['gratar', {'ALEGRIA': True, 'MEDO': False}],\n",
       " ['dedico em aquilo', {'ALEGRIA': True, 'MEDO': False}],\n",
       " ['completamente apaixonar', {'ALEGRIA': True, 'MEDO': False}],\n",
       " ['agitar noite', {'ALEGRIA': True, 'MEDO': False}],\n",
       " ['significar', {'ALEGRIA': True, 'MEDO': False}],\n",
       " ['agir preconceito julgamento', {'ALEGRIA': True, 'MEDO': False}],\n",
       " ['finalmente completar coleção maravilhoso',\n",
       "  {'ALEGRIA': True, 'MEDO': False}],\n",
       " ['rainha', {'ALEGRIA': True, 'MEDO': False}],\n",
       " ['satisfatoriamente anunciar vencedor de o jogo',\n",
       "  {'ALEGRIA': True, 'MEDO': False}],\n",
       " ['atrair facilmente', {'ALEGRIA': True, 'MEDO': False}],\n",
       " ['rapaz extremamente atraente', {'ALEGRIA': True, 'MEDO': False}],\n",
       " ['sinto-me viver', {'ALEGRIA': True, 'MEDO': False}],\n",
       " ['sinto-me paz', {'ALEGRIA': True, 'MEDO': False}],\n",
       " ['lucro', {'ALEGRIA': True, 'MEDO': False}],\n",
       " ['ordem', {'ALEGRIA': True, 'MEDO': False}],\n",
       " ['arrumar emprego junto', {'ALEGRIA': True, 'MEDO': False}],\n",
       " ['arrumação terminada alívio', {'ALEGRIA': True, 'MEDO': False}],\n",
       " ['câncer benigno', {'ALEGRIA': True, 'MEDO': False}],\n",
       " ['amor abundante', {'ALEGRIA': True, 'MEDO': False}],\n",
       " ['caridoso natal', {'ALEGRIA': True, 'MEDO': False}],\n",
       " ['charme atrair', {'ALEGRIA': True, 'MEDO': False}],\n",
       " ['charmoso querer', {'ALEGRIA': True, 'MEDO': False}],\n",
       " ['querida por o amigo', {'ALEGRIA': True, 'MEDO': False}],\n",
       " ['cuidadoso sentimento', {'ALEGRIA': True, 'MEDO': False}],\n",
       " ['comovido tamanho caridade', {'ALEGRIA': True, 'MEDO': False}],\n",
       " ['chá quente reconfortante', {'ALEGRIA': True, 'MEDO': False}],\n",
       " ['alegr', {'ALEGRIA': True, 'MEDO': False}],\n",
       " ['aplaudir vencedor', {'ALEGRIA': True, 'MEDO': False}],\n",
       " ['palma aniversariante', {'ALEGRIA': True, 'MEDO': False}],\n",
       " ['desejo', {'ALEGRIA': True, 'MEDO': False}],\n",
       " ['hora apreciar vinho', {'ALEGRIA': True, 'MEDO': False}],\n",
       " ['apreciar presença escola', {'ALEGRIA': True, 'MEDO': False}],\n",
       " ['anseio trabalho', {'ALEGRIA': True, 'MEDO': False}],\n",
       " ['maravilhoso jogo amistoso', {'ALEGRIA': True, 'MEDO': False}],\n",
       " ['menimo apaziguar', {'ALEGRIA': True, 'MEDO': False}],\n",
       " ['concretizar finalmente sonho', {'ALEGRIA': True, 'MEDO': False}],\n",
       " ['imploror matem', {'ALEGRIA': False, 'MEDO': True}],\n",
       " ['perigoso', {'ALEGRIA': False, 'MEDO': True}],\n",
       " ['seguro', {'ALEGRIA': False, 'MEDO': True}],\n",
       " ['correr pra', {'ALEGRIA': False, 'MEDO': True}],\n",
       " ['socorro querer roubar doce', {'ALEGRIA': False, 'MEDO': True}],\n",
       " ['cara perseguir', {'ALEGRIA': False, 'MEDO': True}],\n",
       " ['entro perigoso', {'ALEGRIA': False, 'MEDO': True}],\n",
       " ['continuar assustador', {'ALEGRIA': False, 'MEDO': True}],\n",
       " ['em o selva animal perigoso', {'ALEGRIA': False, 'MEDO': True}],\n",
       " ['avancer cautela', {'ALEGRIA': False, 'MEDO': True}],\n",
       " ['silencioso cuidado', {'ALEGRIA': False, 'MEDO': True}],\n",
       " ['deixe-me viver', {'ALEGRIA': False, 'MEDO': True}],\n",
       " ['ficar mesada tirar nota', {'ALEGRIA': False, 'MEDO': True}],\n",
       " ['parecer olho em o vigiar', {'ALEGRIA': False, 'MEDO': True}],\n",
       " ['temo sentença de o juiz negativo', {'ALEGRIA': False, 'MEDO': True}],\n",
       " ['missão arriscar', {'ALEGRIA': False, 'MEDO': True}],\n",
       " ['salvem se puder', {'ALEGRIA': False, 'MEDO': True}],\n",
       " ['plano descobrir', {'ALEGRIA': False, 'MEDO': True}],\n",
       " ['culpa juro', {'ALEGRIA': False, 'MEDO': True}],\n",
       " ['tomar cuidado lobisomem', {'ALEGRIA': False, 'MEDO': True}],\n",
       " ['achar descobrir verdade', {'ALEGRIA': False, 'MEDO': True}],\n",
       " ['Deus desaparecer', {'ALEGRIA': False, 'MEDO': True}],\n",
       " ['tomaro vejam de aqui', {'ALEGRIA': False, 'MEDO': True}],\n",
       " ['manter segredo descobrir estaremo ferrado',\n",
       "  {'ALEGRIA': False, 'MEDO': True}],\n",
       " ['soltar inocente', {'ALEGRIA': False, 'MEDO': True}],\n",
       " ['ouvir passo', {'ALEGRIA': False, 'MEDO': True}],\n",
       " ['pedir socorro', {'ALEGRIA': False, 'MEDO': True}],\n",
       " ['cuidado curva em o estrada', {'ALEGRIA': False, 'MEDO': True}],\n",
       " ['parecer perigoso', {'ALEGRIA': False, 'MEDO': True}],\n",
       " ['tremer medo', {'ALEGRIA': False, 'MEDO': True}],\n",
       " ['socorro cair', {'ALEGRIA': False, 'MEDO': True}],\n",
       " ['floresta negro perigoso', {'ALEGRIA': False, 'MEDO': True}],\n",
       " ['ouço passo em o direção', {'ALEGRIA': False, 'MEDO': True}],\n",
       " ['achar arriscado', {'ALEGRIA': False, 'MEDO': True}],\n",
       " ['voltar perigoso', {'ALEGRIA': False, 'MEDO': True}],\n",
       " ['fuja acabaremo morto', {'ALEGRIA': False, 'MEDO': True}],\n",
       " ['receiar livrar de este situação', {'ALEGRIA': False, 'MEDO': True}],\n",
       " ['socorro armado', {'ALEGRIA': False, 'MEDO': True}],\n",
       " ['ei cuidado bater em o poste', {'ALEGRIA': False, 'MEDO': True}],\n",
       " ['socorro afundar', {'ALEGRIA': False, 'MEDO': True}],\n",
       " ['sério cuidado arma', {'ALEGRIA': False, 'MEDO': True}],\n",
       " ['tubarão atacar', {'ALEGRIA': False, 'MEDO': True}],\n",
       " ['sinto arrepio fico sozinho em o escuro', {'ALEGRIA': False, 'MEDO': True}],\n",
       " ['calmo dinheiro', {'ALEGRIA': False, 'MEDO': True}],\n",
       " ['achar enganar', {'ALEGRIA': False, 'MEDO': True}],\n",
       " ['ligeiro fugir depressa', {'ALEGRIA': False, 'MEDO': True}],\n",
       " ['crocodilo selvagem vir', {'ALEGRIA': False, 'MEDO': True}],\n",
       " ['ficarmos achar', {'ALEGRIA': False, 'MEDO': True}],\n",
       " ['fuja tigre parecer faminto', {'ALEGRIA': False, 'MEDO': True}],\n",
       " ['saída preciso milagre', {'ALEGRIA': False, 'MEDO': True}],\n",
       " ['tirar socorro', {'ALEGRIA': False, 'MEDO': True}],\n",
       " ['nadar afogar', {'ALEGRIA': False, 'MEDO': True}],\n",
       " ['certezar seguro', {'ALEGRIA': False, 'MEDO': True}],\n",
       " ['apanhar pai boletim', {'ALEGRIA': False, 'MEDO': True}],\n",
       " ['consigo sair de aqui', {'ALEGRIA': False, 'MEDO': True}],\n",
       " ['sair assaltar', {'ALEGRIA': False, 'MEDO': True}],\n",
       " ['deixar', {'ALEGRIA': False, 'MEDO': True}],\n",
       " ['esperar largar sozinho', {'ALEGRIA': False, 'MEDO': True}],\n",
       " ['temo por o segurança', {'ALEGRIA': False, 'MEDO': True}],\n",
       " ['entregar dinheiro mate', {'ALEGRIA': False, 'MEDO': True}],\n",
       " ['levar dinheiro', {'ALEGRIA': False, 'MEDO': True}],\n",
       " ['dirijar rápido', {'ALEGRIA': False, 'MEDO': True}],\n",
       " ['descobrir prender', {'ALEGRIA': False, 'MEDO': True}],\n",
       " ['esperar façam nenhum', {'ALEGRIA': False, 'MEDO': True}],\n",
       " ['afogar ajudar sair de o água', {'ALEGRIA': False, 'MEDO': True}],\n",
       " ['estarer salvo', {'ALEGRIA': False, 'MEDO': True}],\n",
       " ['querer pensar em o acontecer', {'ALEGRIA': False, 'MEDO': True}],\n",
       " ['em esse cidade desgraça de o outro', {'ALEGRIA': False, 'MEDO': True}],\n",
       " ['alguém ligar assustado', {'ALEGRIA': False, 'MEDO': True}],\n",
       " ['remediar matar', {'ALEGRIA': False, 'MEDO': True}],\n",
       " ['confior em ele cautela', {'ALEGRIA': False, 'MEDO': True}],\n",
       " ['cautela', {'ALEGRIA': False, 'MEDO': True}],\n",
       " ['descobrir Deus', {'ALEGRIA': False, 'MEDO': True}],\n",
       " ['receiar', {'ALEGRIA': False, 'MEDO': True}],\n",
       " ['noite perigoso', {'ALEGRIA': False, 'MEDO': True}],\n",
       " ['estremecer casa', {'ALEGRIA': False, 'MEDO': True}],\n",
       " ['olhar criatura mover monstruosamente', {'ALEGRIA': False, 'MEDO': True}],\n",
       " ['aguentar suspense', {'ALEGRIA': False, 'MEDO': True}],\n",
       " ['afugente cão', {'ALEGRIA': False, 'MEDO': True}],\n",
       " ['chocado amedrontar assassinato brutal', {'ALEGRIA': False, 'MEDO': True}],\n",
       " ['preciso afugentar ímpeto medo de o inferno',\n",
       "  {'ALEGRIA': False, 'MEDO': True}],\n",
       " ['político força afugentar amedrontar', {'ALEGRIA': False, 'MEDO': True}],\n",
       " ['objetivo de isso amedrontar', {'ALEGRIA': False, 'MEDO': True}],\n",
       " ['apavorar', {'ALEGRIA': False, 'MEDO': True}]]"
      ]
     },
     "execution_count": 32,
     "metadata": {},
     "output_type": "execute_result"
    }
   ],
   "source": [
    "base_dados_final"
   ]
  },
  {
   "cell_type": "markdown",
   "id": "83c2a0c7",
   "metadata": {},
   "source": [
    "## Etapa 5: Criação do classificador"
   ]
  },
  {
   "cell_type": "code",
   "execution_count": 33,
   "id": "0c6f2bb0",
   "metadata": {},
   "outputs": [],
   "source": [
    "from spacy.training import Example"
   ]
  },
  {
   "cell_type": "code",
   "execution_count": 34,
   "id": "64a9f6a8",
   "metadata": {},
   "outputs": [],
   "source": [
    "modelo = spacy.blank('pt')\n",
    "categorias = modelo.add_pipe(\"textcat\")\n",
    "categorias.add_label(\"ALEGRIA\")\n",
    "categorias.add_label(\"MEDO\")\n",
    "historico = []"
   ]
  },
  {
   "cell_type": "code",
   "execution_count": 35,
   "id": "3b6084a7",
   "metadata": {},
   "outputs": [
    {
     "name": "stdout",
     "output_type": "stream",
     "text": [
      "{'textcat': 1.697337731719017}\n",
      "{'textcat': 3.304133485912408e-11}\n",
      "{'textcat': 3.995459074267876e-12}\n",
      "{'textcat': 1.0576417129246063e-12}\n",
      "{'textcat': 3.6984817470978384e-13}\n",
      "{'textcat': 1.681966655661454e-13}\n",
      "{'textcat': 7.635854424006458e-14}\n",
      "{'textcat': 3.433838258598283e-14}\n",
      "{'textcat': 1.83228681666019e-14}\n",
      "{'textcat': 1.0870495531470386e-14}\n"
     ]
    }
   ],
   "source": [
    "modelo.begin_training()\n",
    "for epoca in range(1000):\n",
    "    random.shuffle(base_dados_final)\n",
    "    losses = {}\n",
    "    for batch in spacy.util.minibatch(base_dados_final, 30):\n",
    "        textos = [modelo(texto) for texto, entities in batch]\n",
    "        annotations = [{'cats': entities} for texto, entities in batch]\n",
    "        examples = [Example.from_dict(doc, annotation) for doc, annotation in zip(textos, annotations)]\n",
    "        modelo.update(examples, losses=losses)\n",
    "    if epoca % 100 == 0:\n",
    "        print(losses)\n",
    "        historico.append(losses)"
   ]
  },
  {
   "cell_type": "code",
   "execution_count": 36,
   "id": "3e55b262",
   "metadata": {},
   "outputs": [],
   "source": [
    "historico_loss = []\n",
    "for i in historico:\n",
    "    historico_loss.append(i.get('textcat'))"
   ]
  },
  {
   "cell_type": "code",
   "execution_count": 37,
   "id": "81e2a800",
   "metadata": {},
   "outputs": [
    {
     "data": {
      "text/plain": [
       "array([1.69733773e+00, 3.30413349e-11, 3.99545907e-12, 1.05764171e-12,\n",
       "       3.69848175e-13, 1.68196666e-13, 7.63585442e-14, 3.43383826e-14,\n",
       "       1.83228682e-14, 1.08704955e-14])"
      ]
     },
     "execution_count": 37,
     "metadata": {},
     "output_type": "execute_result"
    }
   ],
   "source": [
    "historico_loss = np.array(historico_loss)\n",
    "historico_loss"
   ]
  },
  {
   "cell_type": "code",
   "execution_count": 38,
   "id": "fa6561a1",
   "metadata": {},
   "outputs": [
    {
     "data": {
      "text/plain": [
       "Text(0, 0.5, 'Erro')"
      ]
     },
     "execution_count": 38,
     "metadata": {},
     "output_type": "execute_result"
    },
    {
     "data": {
      "image/png": "[encoded data removed]",
      "text/plain": [
       "<Figure size 640x480 with 1 Axes>"
      ]
     },
     "metadata": {},
     "output_type": "display_data"
    }
   ],
   "source": [
    "import matplotlib.pyplot as plt\n",
    "plt.plot(historico_loss)\n",
    "plt.title('Progressão do erro')\n",
    "plt.xlabel('Épocas')\n",
    "plt.ylabel('Erro')"
   ]
  },
  {
   "cell_type": "code",
   "execution_count": 39,
   "id": "4f958a1d",
   "metadata": {},
   "outputs": [],
   "source": [
    "modelo.to_disk(\"modelo\")"
   ]
  },
  {
   "cell_type": "markdown",
   "id": "91504edf",
   "metadata": {},
   "source": [
    "## Etapa 6: Testes com uma frase"
   ]
  },
  {
   "cell_type": "code",
   "execution_count": 40,
   "id": "6deb6ae5",
   "metadata": {},
   "outputs": [
    {
     "data": {
      "text/plain": [
       "<spacy.lang.pt.Portuguese at 0x1ae68b6cb20>"
      ]
     },
     "execution_count": 40,
     "metadata": {},
     "output_type": "execute_result"
    }
   ],
   "source": [
    "modelo_carregado = spacy.load(\"modelo\")\n",
    "modelo_carregado"
   ]
  },
  {
   "cell_type": "code",
   "execution_count": 41,
   "id": "b603a578",
   "metadata": {},
   "outputs": [],
   "source": [
    "texto_positivo = \"eu adoro a cor dos seus olhos\""
   ]
  },
  {
   "cell_type": "code",
   "execution_count": 42,
   "id": "ba016841",
   "metadata": {},
   "outputs": [
    {
     "data": {
      "text/plain": [
       "'adorar cor de o olho'"
      ]
     },
     "execution_count": 42,
     "metadata": {},
     "output_type": "execute_result"
    }
   ],
   "source": [
    "texto_positivo = preprocessamento(texto_positivo)\n",
    "texto_positivo"
   ]
  },
  {
   "cell_type": "code",
   "execution_count": 43,
   "id": "51524ad0",
   "metadata": {},
   "outputs": [
    {
     "data": {
      "text/plain": [
       "adorar cor de o olho"
      ]
     },
     "execution_count": 43,
     "metadata": {},
     "output_type": "execute_result"
    }
   ],
   "source": [
    "previsao = modelo_carregado(texto_positivo)\n",
    "previsao"
   ]
  },
  {
   "cell_type": "code",
   "execution_count": 44,
   "id": "e418c664",
   "metadata": {},
   "outputs": [],
   "source": [
    "teste = previsao.cats"
   ]
  },
  {
   "cell_type": "code",
   "execution_count": 45,
   "id": "8a1df3e0",
   "metadata": {},
   "outputs": [
    {
     "data": {
      "text/plain": [
       "{'ALEGRIA': 3.746387733372103e-07, 'MEDO': 0.9999996423721313}"
      ]
     },
     "execution_count": 45,
     "metadata": {},
     "output_type": "execute_result"
    }
   ],
   "source": [
    "texto_negativo = \"estou com medo dele\"\n",
    "previsao = modelo_carregado(preprocessamento(texto_negativo))\n",
    "previsao.cats"
   ]
  },
  {
   "cell_type": "markdown",
   "id": "fb7a1a24",
   "metadata": {},
   "source": [
    "## Etapa 7: Avaliação do modelo"
   ]
  },
  {
   "cell_type": "markdown",
   "id": "45d310c4",
   "metadata": {},
   "source": [
    "### Avaliação na base de treinamento"
   ]
  },
  {
   "cell_type": "code",
   "execution_count": 46,
   "id": "7bd3dff3",
   "metadata": {},
   "outputs": [],
   "source": [
    "previsoes = []\n",
    "for texto in base_dados['texto']:\n",
    "    # print(texto)\n",
    "    previsao = modelo_carregado(texto)\n",
    "    previsoes.append(previsao.cats)"
   ]
  },
  {
   "cell_type": "code",
   "execution_count": 47,
   "id": "002023a6",
   "metadata": {},
   "outputs": [
    {
     "data": {
      "text/plain": [
       "[{'ALEGRIA': 1.0, 'MEDO': 3.816696292346933e-09},\n",
       " {'ALEGRIA': 1.0, 'MEDO': 1.732682797239704e-08},\n",
       " {'ALEGRIA': 1.0, 'MEDO': 1.4627516087273307e-08},\n",
       " {'ALEGRIA': 1.0, 'MEDO': 1.630352208792374e-08},\n",
       " {'ALEGRIA': 1.0, 'MEDO': 6.928499995950688e-09},\n",
       " {'ALEGRIA': 1.0, 'MEDO': 1.502486490778665e-08},\n",
       " {'ALEGRIA': 1.0, 'MEDO': 3.8328568763290605e-08},\n",
       " {'ALEGRIA': 1.0, 'MEDO': 2.1014185946910402e-08},\n",
       " {'ALEGRIA': 1.0, 'MEDO': 1.5092794569682155e-08},\n",
       " {'ALEGRIA': 1.0, 'MEDO': 3.495845390943941e-08},\n",
       " {'ALEGRIA': 1.0, 'MEDO': 5.288133930747563e-09},\n",
       " {'ALEGRIA': 1.0, 'MEDO': 1.7596127221963798e-08},\n",
       " {'ALEGRIA': 1.0, 'MEDO': 3.0686333474250205e-09},\n",
       " {'ALEGRIA': 1.0, 'MEDO': 1.0795676352870487e-08},\n",
       " {'ALEGRIA': 1.0, 'MEDO': 4.3173358221793023e-08},\n",
       " {'ALEGRIA': 1.0, 'MEDO': 6.776242678085964e-09},\n",
       " {'ALEGRIA': 1.0, 'MEDO': 3.751038235577653e-08},\n",
       " {'ALEGRIA': 1.0, 'MEDO': 1.0524918714338583e-08},\n",
       " {'ALEGRIA': 1.0, 'MEDO': 1.587283904314063e-08},\n",
       " {'ALEGRIA': 1.0, 'MEDO': 2.6988255186211063e-08},\n",
       " {'ALEGRIA': 1.0, 'MEDO': 2.3449770125694158e-08},\n",
       " {'ALEGRIA': 1.0, 'MEDO': 4.8901679150503696e-08},\n",
       " {'ALEGRIA': 1.0, 'MEDO': 2.3550802197291887e-08},\n",
       " {'ALEGRIA': 1.0, 'MEDO': 1.5070815706508256e-08},\n",
       " {'ALEGRIA': 1.0, 'MEDO': 1.6364333887963767e-08},\n",
       " {'ALEGRIA': 1.0, 'MEDO': 2.7836991378649145e-08},\n",
       " {'ALEGRIA': 1.0, 'MEDO': 2.287184841520684e-08},\n",
       " {'ALEGRIA': 1.0, 'MEDO': 1.6528014512573463e-08},\n",
       " {'ALEGRIA': 1.0, 'MEDO': 1.8440442062228612e-08},\n",
       " {'ALEGRIA': 1.0, 'MEDO': 6.058876067527308e-09},\n",
       " {'ALEGRIA': 1.0, 'MEDO': 5.278211290260515e-08},\n",
       " {'ALEGRIA': 1.0, 'MEDO': 8.602468959395537e-09},\n",
       " {'ALEGRIA': 1.0, 'MEDO': 2.514742369896794e-08},\n",
       " {'ALEGRIA': 1.0, 'MEDO': 2.1113256920557433e-08},\n",
       " {'ALEGRIA': 1.0, 'MEDO': 1.164375706963483e-08},\n",
       " {'ALEGRIA': 1.0, 'MEDO': 9.187371752261697e-09},\n",
       " {'ALEGRIA': 1.0, 'MEDO': 3.303606277427207e-08},\n",
       " {'ALEGRIA': 1.0, 'MEDO': 2.8589839828896402e-08},\n",
       " {'ALEGRIA': 1.0, 'MEDO': 1.6427065929747187e-08},\n",
       " {'ALEGRIA': 1.0, 'MEDO': 1.7770501514746684e-08},\n",
       " {'ALEGRIA': 1.0, 'MEDO': 4.0988766158989165e-08},\n",
       " {'ALEGRIA': 1.0, 'MEDO': 1.600997023842865e-08},\n",
       " {'ALEGRIA': 1.0, 'MEDO': 1.1015322876062328e-08},\n",
       " {'ALEGRIA': 1.0, 'MEDO': 8.315120147983635e-09},\n",
       " {'ALEGRIA': 1.0, 'MEDO': 8.454348332520567e-09},\n",
       " {'ALEGRIA': 1.0, 'MEDO': 2.5103815914917504e-08},\n",
       " {'ALEGRIA': 1.0, 'MEDO': 4.631940342392227e-08},\n",
       " {'ALEGRIA': 0.9999998807907104, 'MEDO': 8.628995828985353e-08},\n",
       " {'ALEGRIA': 1.0, 'MEDO': 1.1792454124304186e-08},\n",
       " {'ALEGRIA': 1.0, 'MEDO': 5.238132594342915e-09},\n",
       " {'ALEGRIA': 1.0, 'MEDO': 2.498215678770066e-08},\n",
       " {'ALEGRIA': 1.0, 'MEDO': 1.7239066840701867e-09},\n",
       " {'ALEGRIA': 1.0, 'MEDO': 2.2933749121989422e-08},\n",
       " {'ALEGRIA': 1.0, 'MEDO': 9.196347683371187e-09},\n",
       " {'ALEGRIA': 1.0, 'MEDO': 2.5064245789963024e-08},\n",
       " {'ALEGRIA': 1.0, 'MEDO': 2.5280300519625598e-08},\n",
       " {'ALEGRIA': 1.0, 'MEDO': 1.2805324800524431e-08},\n",
       " {'ALEGRIA': 1.0, 'MEDO': 1.4667326908579525e-08},\n",
       " {'ALEGRIA': 1.0, 'MEDO': 2.7399302382491442e-08},\n",
       " {'ALEGRIA': 1.0, 'MEDO': 7.14479497787579e-09},\n",
       " {'ALEGRIA': 1.0, 'MEDO': 1.7676017094458985e-08},\n",
       " {'ALEGRIA': 1.0, 'MEDO': 4.3195601762135993e-08},\n",
       " {'ALEGRIA': 1.0, 'MEDO': 3.573458640104832e-09},\n",
       " {'ALEGRIA': 1.0, 'MEDO': 3.0741691414704064e-09},\n",
       " {'ALEGRIA': 1.0, 'MEDO': 1.4573907414217047e-08},\n",
       " {'ALEGRIA': 1.0, 'MEDO': 1.2479759448069672e-08},\n",
       " {'ALEGRIA': 1.0, 'MEDO': 2.9536842305333266e-08},\n",
       " {'ALEGRIA': 1.0, 'MEDO': 3.1128770672239625e-08},\n",
       " {'ALEGRIA': 1.0, 'MEDO': 1.8431054016332382e-08},\n",
       " {'ALEGRIA': 1.0, 'MEDO': 3.501956502560688e-09},\n",
       " {'ALEGRIA': 1.0, 'MEDO': 7.088990727766031e-09},\n",
       " {'ALEGRIA': 1.0, 'MEDO': 4.930193142627104e-09},\n",
       " {'ALEGRIA': 1.0, 'MEDO': 4.55738131677208e-08},\n",
       " {'ALEGRIA': 1.0, 'MEDO': 2.0867958028247813e-08},\n",
       " {'ALEGRIA': 1.0, 'MEDO': 2.2001305666208282e-08},\n",
       " {'ALEGRIA': 1.0, 'MEDO': 4.0344986018681084e-08},\n",
       " {'ALEGRIA': 1.0, 'MEDO': 3.960480654541243e-08},\n",
       " {'ALEGRIA': 1.0, 'MEDO': 5.3730531135443016e-08},\n",
       " {'ALEGRIA': 1.0, 'MEDO': 9.019712976510164e-09},\n",
       " {'ALEGRIA': 1.0, 'MEDO': 1.363541102250565e-08},\n",
       " {'ALEGRIA': 1.0, 'MEDO': 4.78557815597469e-08},\n",
       " {'ALEGRIA': 1.0, 'MEDO': 7.601737017637333e-09},\n",
       " {'ALEGRIA': 1.0, 'MEDO': 1.831942597618763e-08},\n",
       " {'ALEGRIA': 1.0, 'MEDO': 2.5659900870778074e-08},\n",
       " {'ALEGRIA': 1.0, 'MEDO': 4.111945273166384e-08},\n",
       " {'ALEGRIA': 1.0, 'MEDO': 5.905103961367786e-09},\n",
       " {'ALEGRIA': 1.0, 'MEDO': 5.076778109014413e-09},\n",
       " {'ALEGRIA': 1.0, 'MEDO': 4.2243126330276937e-08},\n",
       " {'ALEGRIA': 1.0, 'MEDO': 1.8436644211305975e-08},\n",
       " {'ALEGRIA': 1.0, 'MEDO': 2.9469431339634866e-08},\n",
       " {'ALEGRIA': 1.0, 'MEDO': 1.382893977108779e-08},\n",
       " {'ALEGRIA': 1.0, 'MEDO': 1.5452712887054076e-08},\n",
       " {'ALEGRIA': 1.0, 'MEDO': 7.047078032229592e-09},\n",
       " {'ALEGRIA': 1.0, 'MEDO': 3.019596306330641e-08},\n",
       " {'ALEGRIA': 1.0, 'MEDO': 1.3661799469488756e-09},\n",
       " {'ALEGRIA': 1.0, 'MEDO': 3.269717296916497e-08},\n",
       " {'ALEGRIA': 1.0, 'MEDO': 4.201234027334522e-09},\n",
       " {'ALEGRIA': 1.0, 'MEDO': 2.6379066042636623e-08},\n",
       " {'ALEGRIA': 1.0, 'MEDO': 2.5217790522447103e-08},\n",
       " {'ALEGRIA': 1.0, 'MEDO': 3.65386343403884e-09},\n",
       " {'ALEGRIA': 1.0, 'MEDO': 1.766412083270552e-08},\n",
       " {'ALEGRIA': 1.0, 'MEDO': 3.741433385329174e-09},\n",
       " {'ALEGRIA': 1.0, 'MEDO': 4.5840664597562863e-08},\n",
       " {'ALEGRIA': 1.0, 'MEDO': 1.4174716511661245e-08},\n",
       " {'ALEGRIA': 1.0, 'MEDO': 3.230083578387166e-08},\n",
       " {'ALEGRIA': 1.0, 'MEDO': 1.622689360658569e-08},\n",
       " {'ALEGRIA': 1.0, 'MEDO': 1.2501820911836603e-08},\n",
       " {'ALEGRIA': 0.9999998807907104, 'MEDO': 5.992004048493982e-08},\n",
       " {'ALEGRIA': 1.0, 'MEDO': 7.52823492433663e-09},\n",
       " {'ALEGRIA': 1.0, 'MEDO': 1.3753211014488897e-08},\n",
       " {'ALEGRIA': 1.0, 'MEDO': 1.794085235928833e-08},\n",
       " {'ALEGRIA': 1.0, 'MEDO': 1.8493841125177823e-08},\n",
       " {'ALEGRIA': 2.0882053419768454e-08, 'MEDO': 1.0},\n",
       " {'ALEGRIA': 5.656894064287599e-09, 'MEDO': 1.0},\n",
       " {'ALEGRIA': 2.2960009005146276e-08, 'MEDO': 1.0},\n",
       " {'ALEGRIA': 7.574571192492385e-09, 'MEDO': 1.0},\n",
       " {'ALEGRIA': 2.913348851052433e-08, 'MEDO': 1.0},\n",
       " {'ALEGRIA': 8.1604367707655e-09, 'MEDO': 1.0},\n",
       " {'ALEGRIA': 7.565863491265645e-09, 'MEDO': 1.0},\n",
       " {'ALEGRIA': 3.5616682936279176e-08, 'MEDO': 1.0},\n",
       " {'ALEGRIA': 1.830189333418275e-08, 'MEDO': 1.0},\n",
       " {'ALEGRIA': 5.43539329100895e-08, 'MEDO': 1.0},\n",
       " {'ALEGRIA': 1.6425687476839812e-08, 'MEDO': 1.0},\n",
       " {'ALEGRIA': 4.7731163022035616e-08, 'MEDO': 1.0},\n",
       " {'ALEGRIA': 2.3286107264652856e-08, 'MEDO': 1.0},\n",
       " {'ALEGRIA': 5.5191456738157285e-08, 'MEDO': 1.0},\n",
       " {'ALEGRIA': 1.9609876389381498e-08, 'MEDO': 1.0},\n",
       " {'ALEGRIA': 2.5103766176926e-08, 'MEDO': 1.0},\n",
       " {'ALEGRIA': 1.4705366702116862e-08, 'MEDO': 1.0},\n",
       " {'ALEGRIA': 4.3297037066736266e-09, 'MEDO': 1.0},\n",
       " {'ALEGRIA': 2.6467770197768914e-08, 'MEDO': 1.0},\n",
       " {'ALEGRIA': 2.99952311877405e-08, 'MEDO': 1.0},\n",
       " {'ALEGRIA': 5.264286784267824e-08, 'MEDO': 1.0},\n",
       " {'ALEGRIA': 1.3453156810783184e-08, 'MEDO': 1.0},\n",
       " {'ALEGRIA': 2.936350007587407e-08, 'MEDO': 1.0},\n",
       " {'ALEGRIA': 4.4597051385153463e-08, 'MEDO': 1.0},\n",
       " {'ALEGRIA': 2.6904377392611423e-08, 'MEDO': 1.0},\n",
       " {'ALEGRIA': 2.25853860058578e-08, 'MEDO': 1.0},\n",
       " {'ALEGRIA': 2.9439990001378646e-08, 'MEDO': 1.0},\n",
       " {'ALEGRIA': 1.6395921065281982e-08, 'MEDO': 1.0},\n",
       " {'ALEGRIA': 6.5923710934612245e-09, 'MEDO': 1.0},\n",
       " {'ALEGRIA': 2.0037996151245352e-08, 'MEDO': 1.0},\n",
       " {'ALEGRIA': 1.06390745102658e-08, 'MEDO': 1.0},\n",
       " {'ALEGRIA': 1.3773424178964433e-08, 'MEDO': 1.0},\n",
       " {'ALEGRIA': 2.3314282060482583e-08, 'MEDO': 1.0},\n",
       " {'ALEGRIA': 3.9196891066239914e-08, 'MEDO': 1.0},\n",
       " {'ALEGRIA': 7.3167401026807966e-09, 'MEDO': 1.0},\n",
       " {'ALEGRIA': 2.086938977186037e-08, 'MEDO': 1.0},\n",
       " {'ALEGRIA': 6.286996523385824e-08, 'MEDO': 0.9999998807907104},\n",
       " {'ALEGRIA': 6.211058778404777e-09, 'MEDO': 1.0},\n",
       " {'ALEGRIA': 1.3511299634672014e-08, 'MEDO': 1.0},\n",
       " {'ALEGRIA': 6.636489580102989e-09, 'MEDO': 1.0},\n",
       " {'ALEGRIA': 2.9340656126919384e-08, 'MEDO': 1.0},\n",
       " {'ALEGRIA': 3.577402551968589e-08, 'MEDO': 1.0},\n",
       " {'ALEGRIA': 3.3311366109956e-08, 'MEDO': 1.0},\n",
       " {'ALEGRIA': 2.2274155853097e-08, 'MEDO': 1.0},\n",
       " {'ALEGRIA': 3.659298641878195e-08, 'MEDO': 1.0},\n",
       " {'ALEGRIA': 2.6104734374143845e-08, 'MEDO': 1.0},\n",
       " {'ALEGRIA': 3.122308100955706e-08, 'MEDO': 1.0},\n",
       " {'ALEGRIA': 9.560667990626825e-08, 'MEDO': 0.9999998807907104},\n",
       " {'ALEGRIA': 2.5413539717078493e-08, 'MEDO': 1.0},\n",
       " {'ALEGRIA': 2.4313774105166885e-08, 'MEDO': 1.0},\n",
       " {'ALEGRIA': 8.926284600363488e-09, 'MEDO': 1.0},\n",
       " {'ALEGRIA': 1.1827752111059908e-08, 'MEDO': 1.0},\n",
       " {'ALEGRIA': 2.6538947039966843e-08, 'MEDO': 1.0},\n",
       " {'ALEGRIA': 2.102930096725686e-08, 'MEDO': 1.0},\n",
       " {'ALEGRIA': 1.2544529859326303e-08, 'MEDO': 1.0},\n",
       " {'ALEGRIA': 1.4170742801411507e-08, 'MEDO': 1.0},\n",
       " {'ALEGRIA': 2.1227045010618895e-08, 'MEDO': 1.0},\n",
       " {'ALEGRIA': 1.8456804085076328e-08, 'MEDO': 1.0},\n",
       " {'ALEGRIA': 6.99197286735398e-08, 'MEDO': 0.9999998807907104},\n",
       " {'ALEGRIA': 1.8652617228553936e-08, 'MEDO': 1.0},\n",
       " {'ALEGRIA': 1.520980497105029e-08, 'MEDO': 1.0},\n",
       " {'ALEGRIA': 2.9254767497377543e-08, 'MEDO': 1.0},\n",
       " {'ALEGRIA': 1.412352190754973e-08, 'MEDO': 1.0},\n",
       " {'ALEGRIA': 2.1881779943555557e-08, 'MEDO': 1.0},\n",
       " {'ALEGRIA': 2.2282485190316947e-08, 'MEDO': 1.0},\n",
       " {'ALEGRIA': 2.7916160050267536e-08, 'MEDO': 1.0},\n",
       " {'ALEGRIA': 4.768675765376429e-08, 'MEDO': 1.0},\n",
       " {'ALEGRIA': 8.524447281388348e-08, 'MEDO': 0.9999998807907104},\n",
       " {'ALEGRIA': 2.5636762046588046e-08, 'MEDO': 1.0},\n",
       " {'ALEGRIA': 2.6895449423136597e-08, 'MEDO': 1.0},\n",
       " {'ALEGRIA': 5.076170594975338e-08, 'MEDO': 1.0},\n",
       " {'ALEGRIA': 7.285786551847195e-08, 'MEDO': 0.9999998807907104},\n",
       " {'ALEGRIA': 6.538948049694682e-09, 'MEDO': 1.0},\n",
       " {'ALEGRIA': 3.2545358408242464e-08, 'MEDO': 1.0},\n",
       " {'ALEGRIA': 1.22161312177127e-08, 'MEDO': 1.0},\n",
       " {'ALEGRIA': 2.7302997196443357e-08, 'MEDO': 1.0},\n",
       " {'ALEGRIA': 2.255168141118702e-08, 'MEDO': 1.0},\n",
       " {'ALEGRIA': 2.0714567838808762e-08, 'MEDO': 1.0},\n",
       " {'ALEGRIA': 7.456813477801916e-08, 'MEDO': 0.9999998807907104},\n",
       " {'ALEGRIA': 5.0956398212065324e-08, 'MEDO': 1.0},\n",
       " {'ALEGRIA': 2.487778161253118e-08, 'MEDO': 1.0},\n",
       " {'ALEGRIA': 2.258680709132932e-08, 'MEDO': 1.0},\n",
       " {'ALEGRIA': 5.3096645302730394e-08, 'MEDO': 1.0},\n",
       " {'ALEGRIA': 5.513222589570432e-08, 'MEDO': 1.0}]"
      ]
     },
     "execution_count": 47,
     "metadata": {},
     "output_type": "execute_result"
    }
   ],
   "source": [
    "previsoes"
   ]
  },
  {
   "cell_type": "code",
   "execution_count": 48,
   "id": "e3641b9f",
   "metadata": {},
   "outputs": [],
   "source": [
    "previsoes_final = []\n",
    "for previsao in previsoes:\n",
    "    if previsao['ALEGRIA'] > previsao['MEDO']:\n",
    "        previsoes_final.append('alegria')\n",
    "    else:\n",
    "        previsoes_final.append('medo')\n",
    "        \n",
    "previsoes_final = np.array(previsoes_final)"
   ]
  },
  {
   "cell_type": "code",
   "execution_count": 49,
   "id": "e9136d9a",
   "metadata": {},
   "outputs": [
    {
     "data": {
      "text/plain": [
       "array(['alegria', 'alegria', 'alegria', 'alegria', 'alegria', 'alegria',\n",
       "       'alegria', 'alegria', 'alegria', 'alegria', 'alegria', 'alegria',\n",
       "       'alegria', 'alegria', 'alegria', 'alegria', 'alegria', 'alegria',\n",
       "       'alegria', 'alegria', 'alegria', 'alegria', 'alegria', 'alegria',\n",
       "       'alegria', 'alegria', 'alegria', 'alegria', 'alegria', 'alegria',\n",
       "       'alegria', 'alegria', 'alegria', 'alegria', 'alegria', 'alegria',\n",
       "       'alegria', 'alegria', 'alegria', 'alegria', 'alegria', 'alegria',\n",
       "       'alegria', 'alegria', 'alegria', 'alegria', 'alegria', 'alegria',\n",
       "       'alegria', 'alegria', 'alegria', 'alegria', 'alegria', 'alegria',\n",
       "       'alegria', 'alegria', 'alegria', 'alegria', 'alegria', 'alegria',\n",
       "       'alegria', 'alegria', 'alegria', 'alegria', 'alegria', 'alegria',\n",
       "       'alegria', 'alegria', 'alegria', 'alegria', 'alegria', 'alegria',\n",
       "       'alegria', 'alegria', 'alegria', 'alegria', 'alegria', 'alegria',\n",
       "       'alegria', 'alegria', 'alegria', 'alegria', 'alegria', 'alegria',\n",
       "       'alegria', 'alegria', 'alegria', 'alegria', 'alegria', 'alegria',\n",
       "       'alegria', 'alegria', 'alegria', 'alegria', 'alegria', 'alegria',\n",
       "       'alegria', 'alegria', 'alegria', 'alegria', 'alegria', 'alegria',\n",
       "       'alegria', 'alegria', 'alegria', 'alegria', 'alegria', 'alegria',\n",
       "       'alegria', 'alegria', 'alegria', 'alegria', 'medo', 'medo', 'medo',\n",
       "       'medo', 'medo', 'medo', 'medo', 'medo', 'medo', 'medo', 'medo',\n",
       "       'medo', 'medo', 'medo', 'medo', 'medo', 'medo', 'medo', 'medo',\n",
       "       'medo', 'medo', 'medo', 'medo', 'medo', 'medo', 'medo', 'medo',\n",
       "       'medo', 'medo', 'medo', 'medo', 'medo', 'medo', 'medo', 'medo',\n",
       "       'medo', 'medo', 'medo', 'medo', 'medo', 'medo', 'medo', 'medo',\n",
       "       'medo', 'medo', 'medo', 'medo', 'medo', 'medo', 'medo', 'medo',\n",
       "       'medo', 'medo', 'medo', 'medo', 'medo', 'medo', 'medo', 'medo',\n",
       "       'medo', 'medo', 'medo', 'medo', 'medo', 'medo', 'medo', 'medo',\n",
       "       'medo', 'medo', 'medo', 'medo', 'medo', 'medo', 'medo', 'medo',\n",
       "       'medo', 'medo', 'medo', 'medo', 'medo', 'medo', 'medo', 'medo',\n",
       "       'medo'], dtype='<U7')"
      ]
     },
     "execution_count": 49,
     "metadata": {},
     "output_type": "execute_result"
    }
   ],
   "source": [
    "previsoes_final"
   ]
  },
  {
   "cell_type": "code",
   "execution_count": 50,
   "id": "9b05fc71",
   "metadata": {},
   "outputs": [
    {
     "data": {
      "text/plain": [
       "array(['alegria', 'alegria', 'alegria', 'alegria', 'alegria', 'alegria',\n",
       "       'alegria', 'alegria', 'alegria', 'alegria', 'alegria', 'alegria',\n",
       "       'alegria', 'alegria', 'alegria', 'alegria', 'alegria', 'alegria',\n",
       "       'alegria', 'alegria', 'alegria', 'alegria', 'alegria', 'alegria',\n",
       "       'alegria', 'alegria', 'alegria', 'alegria', 'alegria', 'alegria',\n",
       "       'alegria', 'alegria', 'alegria', 'alegria', 'alegria', 'alegria',\n",
       "       'alegria', 'alegria', 'alegria', 'alegria', 'alegria', 'alegria',\n",
       "       'alegria', 'alegria', 'alegria', 'alegria', 'alegria', 'alegria',\n",
       "       'alegria', 'alegria', 'alegria', 'alegria', 'alegria', 'alegria',\n",
       "       'alegria', 'alegria', 'alegria', 'alegria', 'alegria', 'alegria',\n",
       "       'alegria', 'alegria', 'alegria', 'alegria', 'alegria', 'alegria',\n",
       "       'alegria', 'alegria', 'alegria', 'alegria', 'alegria', 'alegria',\n",
       "       'alegria', 'alegria', 'alegria', 'alegria', 'alegria', 'alegria',\n",
       "       'alegria', 'alegria', 'alegria', 'alegria', 'alegria', 'alegria',\n",
       "       'alegria', 'alegria', 'alegria', 'alegria', 'alegria', 'alegria',\n",
       "       'alegria', 'alegria', 'alegria', 'alegria', 'alegria', 'alegria',\n",
       "       'alegria', 'alegria', 'alegria', 'alegria', 'alegria', 'alegria',\n",
       "       'alegria', 'alegria', 'alegria', 'alegria', 'alegria', 'alegria',\n",
       "       'alegria', 'alegria', 'alegria', 'alegria', 'medo', 'medo', 'medo',\n",
       "       'medo', 'medo', 'medo', 'medo', 'medo', 'medo', 'medo', 'medo',\n",
       "       'medo', 'medo', 'medo', 'medo', 'medo', 'medo', 'medo', 'medo',\n",
       "       'medo', 'medo', 'medo', 'medo', 'medo', 'medo', 'medo', 'medo',\n",
       "       'medo', 'medo', 'medo', 'medo', 'medo', 'medo', 'medo', 'medo',\n",
       "       'medo', 'medo', 'medo', 'medo', 'medo', 'medo', 'medo', 'medo',\n",
       "       'medo', 'medo', 'medo', 'medo', 'medo', 'medo', 'medo', 'medo',\n",
       "       'medo', 'medo', 'medo', 'medo', 'medo', 'medo', 'medo', 'medo',\n",
       "       'medo', 'medo', 'medo', 'medo', 'medo', 'medo', 'medo', 'medo',\n",
       "       'medo', 'medo', 'medo', 'medo', 'medo', 'medo', 'medo', 'medo',\n",
       "       'medo', 'medo', 'medo', 'medo', 'medo', 'medo', 'medo', 'medo',\n",
       "       'medo'], dtype=object)"
      ]
     },
     "execution_count": 50,
     "metadata": {},
     "output_type": "execute_result"
    }
   ],
   "source": [
    "respostas_reais = base_dados['emocao'].values\n",
    "respostas_reais"
   ]
  },
  {
   "cell_type": "code",
   "execution_count": 51,
   "id": "1e3cd1c7",
   "metadata": {},
   "outputs": [
    {
     "data": {
      "text/plain": [
       "1.0"
      ]
     },
     "execution_count": 51,
     "metadata": {},
     "output_type": "execute_result"
    }
   ],
   "source": [
    "from sklearn.metrics import confusion_matrix, accuracy_score\n",
    "accuracy_score(respostas_reais, previsoes_final)"
   ]
  },
  {
   "cell_type": "code",
   "execution_count": 52,
   "id": "a3735e1a",
   "metadata": {},
   "outputs": [
    {
     "data": {
      "text/plain": [
       "array([[112,   0],\n",
       "       [  0,  84]], dtype=int64)"
      ]
     },
     "execution_count": 52,
     "metadata": {},
     "output_type": "execute_result"
    }
   ],
   "source": [
    "cm = confusion_matrix(respostas_reais, previsoes_final)\n",
    "cm"
   ]
  },
  {
   "cell_type": "markdown",
   "id": "d62166a1",
   "metadata": {},
   "source": [
    "### Avaliação na base de teste"
   ]
  },
  {
   "cell_type": "code",
   "execution_count": 53,
   "id": "93214b65",
   "metadata": {},
   "outputs": [],
   "source": [
    "base_dados_teste = pd.read_csv('base_teste.txt', encoding='utf-8')"
   ]
  },
  {
   "cell_type": "code",
   "execution_count": 54,
   "id": "f34c998b",
   "metadata": {},
   "outputs": [
    {
     "data": {
      "text/html": [
       "<div>\n",
       "<style scoped>\n",
       "    .dataframe tbody tr th:only-of-type {\n",
       "        vertical-align: middle;\n",
       "    }\n",
       "\n",
       "    .dataframe tbody tr th {\n",
       "        vertical-align: top;\n",
       "    }\n",
       "\n",
       "    .dataframe thead th {\n",
       "        text-align: right;\n",
       "    }\n",
       "</style>\n",
       "<table border=\"1\" class=\"dataframe\">\n",
       "  <thead>\n",
       "    <tr style=\"text-align: right;\">\n",
       "      <th></th>\n",
       "      <th>texto</th>\n",
       "      <th>emocao</th>\n",
       "    </tr>\n",
       "  </thead>\n",
       "  <tbody>\n",
       "    <tr>\n",
       "      <th>0</th>\n",
       "      <td>não precisei pagar o ingresso</td>\n",
       "      <td>alegria</td>\n",
       "    </tr>\n",
       "    <tr>\n",
       "      <th>1</th>\n",
       "      <td>se eu ajeitar tudo fica bem</td>\n",
       "      <td>alegria</td>\n",
       "    </tr>\n",
       "    <tr>\n",
       "      <th>2</th>\n",
       "      <td>minha fortuna ultrapassará a sua</td>\n",
       "      <td>alegria</td>\n",
       "    </tr>\n",
       "    <tr>\n",
       "      <th>3</th>\n",
       "      <td>sou muito afortunado</td>\n",
       "      <td>alegria</td>\n",
       "    </tr>\n",
       "    <tr>\n",
       "      <th>4</th>\n",
       "      <td>é benéfico para todos esta nova medida</td>\n",
       "      <td>alegria</td>\n",
       "    </tr>\n",
       "  </tbody>\n",
       "</table>\n",
       "</div>"
      ],
      "text/plain": [
       "                                    texto   emocao\n",
       "0           não precisei pagar o ingresso  alegria\n",
       "1             se eu ajeitar tudo fica bem  alegria\n",
       "2        minha fortuna ultrapassará a sua  alegria\n",
       "3                    sou muito afortunado  alegria\n",
       "4  é benéfico para todos esta nova medida  alegria"
      ]
     },
     "execution_count": 54,
     "metadata": {},
     "output_type": "execute_result"
    }
   ],
   "source": [
    "base_dados_teste.head()"
   ]
  },
  {
   "cell_type": "code",
   "execution_count": 55,
   "id": "4e5a683c",
   "metadata": {},
   "outputs": [],
   "source": [
    "base_dados_teste['texto'] = base_dados_teste['texto'].apply(preprocessamento)"
   ]
  },
  {
   "cell_type": "code",
   "execution_count": 56,
   "id": "3aa7b4d8",
   "metadata": {},
   "outputs": [
    {
     "data": {
      "text/html": [
       "<div>\n",
       "<style scoped>\n",
       "    .dataframe tbody tr th:only-of-type {\n",
       "        vertical-align: middle;\n",
       "    }\n",
       "\n",
       "    .dataframe tbody tr th {\n",
       "        vertical-align: top;\n",
       "    }\n",
       "\n",
       "    .dataframe thead th {\n",
       "        text-align: right;\n",
       "    }\n",
       "</style>\n",
       "<table border=\"1\" class=\"dataframe\">\n",
       "  <thead>\n",
       "    <tr style=\"text-align: right;\">\n",
       "      <th></th>\n",
       "      <th>texto</th>\n",
       "      <th>emocao</th>\n",
       "    </tr>\n",
       "  </thead>\n",
       "  <tbody>\n",
       "    <tr>\n",
       "      <th>0</th>\n",
       "      <td>precisar pagar ingresso</td>\n",
       "      <td>alegria</td>\n",
       "    </tr>\n",
       "    <tr>\n",
       "      <th>1</th>\n",
       "      <td>ajeitar ficar</td>\n",
       "      <td>alegria</td>\n",
       "    </tr>\n",
       "    <tr>\n",
       "      <th>2</th>\n",
       "      <td>fortuna ultrapassar</td>\n",
       "      <td>alegria</td>\n",
       "    </tr>\n",
       "    <tr>\n",
       "      <th>3</th>\n",
       "      <td>afortunar</td>\n",
       "      <td>alegria</td>\n",
       "    </tr>\n",
       "    <tr>\n",
       "      <th>4</th>\n",
       "      <td>benéfico medida</td>\n",
       "      <td>alegria</td>\n",
       "    </tr>\n",
       "  </tbody>\n",
       "</table>\n",
       "</div>"
      ],
      "text/plain": [
       "                     texto   emocao\n",
       "0  precisar pagar ingresso  alegria\n",
       "1            ajeitar ficar  alegria\n",
       "2      fortuna ultrapassar  alegria\n",
       "3                afortunar  alegria\n",
       "4          benéfico medida  alegria"
      ]
     },
     "execution_count": 56,
     "metadata": {},
     "output_type": "execute_result"
    }
   ],
   "source": [
    "base_dados_teste.head()"
   ]
  },
  {
   "cell_type": "code",
   "execution_count": 57,
   "id": "cb333b67",
   "metadata": {},
   "outputs": [],
   "source": [
    "previsoes = []\n",
    "for texto in base_dados_teste['texto']:\n",
    "    #print(texto)\n",
    "    previsao = modelo_carregado(texto)\n",
    "    previsoes.append(previsao.cats)"
   ]
  },
  {
   "cell_type": "code",
   "execution_count": 58,
   "id": "74690611",
   "metadata": {},
   "outputs": [
    {
     "data": {
      "text/plain": [
       "[{'ALEGRIA': 5.381020855566021e-07, 'MEDO': 0.9999994039535522},\n",
       " {'ALEGRIA': 0.999454915523529, 'MEDO': 0.0005450776079669595},\n",
       " {'ALEGRIA': 0.007190716452896595, 'MEDO': 0.9928092956542969},\n",
       " {'ALEGRIA': 1.0, 'MEDO': 2.3449770125694158e-08},\n",
       " {'ALEGRIA': 0.9995930790901184, 'MEDO': 0.0004069893911946565},\n",
       " {'ALEGRIA': 0.5407457947731018, 'MEDO': 0.4592541754245758},\n",
       " {'ALEGRIA': 1.91455619642511e-05, 'MEDO': 0.9999808073043823},\n",
       " {'ALEGRIA': 0.9999904632568359, 'MEDO': 9.582248821971007e-06},\n",
       " {'ALEGRIA': 1.0, 'MEDO': 2.879456850735096e-08},\n",
       " {'ALEGRIA': 0.9999971389770508, 'MEDO': 2.8317508622421883e-06},\n",
       " {'ALEGRIA': 0.9997028708457947, 'MEDO': 0.00029715310665778816},\n",
       " {'ALEGRIA': 0.010127619840204716, 'MEDO': 0.9898723363876343},\n",
       " {'ALEGRIA': 0.2588220536708832, 'MEDO': 0.7411779165267944},\n",
       " {'ALEGRIA': 0.9999994039535522, 'MEDO': 5.623140282295935e-07},\n",
       " {'ALEGRIA': 1.0, 'MEDO': 7.088990727766031e-09},\n",
       " {'ALEGRIA': 0.993187665939331, 'MEDO': 0.006812320556491613},\n",
       " {'ALEGRIA': 0.9980944991111755, 'MEDO': 0.001905448967590928},\n",
       " {'ALEGRIA': 0.9999788999557495, 'MEDO': 2.1155090507818386e-05},\n",
       " {'ALEGRIA': 0.12631811201572418, 'MEDO': 0.873681902885437},\n",
       " {'ALEGRIA': 0.12631811201572418, 'MEDO': 0.873681902885437},\n",
       " {'ALEGRIA': 0.9966744184494019, 'MEDO': 0.0033255175221711397},\n",
       " {'ALEGRIA': 0.9999576807022095, 'MEDO': 4.234886000631377e-05},\n",
       " {'ALEGRIA': 0.009348833933472633, 'MEDO': 0.9906511306762695},\n",
       " {'ALEGRIA': 0.9999618530273438, 'MEDO': 3.814331648754887e-05},\n",
       " {'ALEGRIA': 0.0005162272718735039, 'MEDO': 0.9994837045669556},\n",
       " {'ALEGRIA': 0.9999984502792358, 'MEDO': 1.503305497863039e-06},\n",
       " {'ALEGRIA': 1.0, 'MEDO': 8.02407384981052e-09},\n",
       " {'ALEGRIA': 0.9245585203170776, 'MEDO': 0.07544147968292236},\n",
       " {'ALEGRIA': 1.127858558902517e-05, 'MEDO': 0.9999886751174927},\n",
       " {'ALEGRIA': 0.00034738105023279786, 'MEDO': 0.999652624130249},\n",
       " {'ALEGRIA': 0.9999938011169434, 'MEDO': 6.206162197486265e-06},\n",
       " {'ALEGRIA': 0.9999740123748779, 'MEDO': 2.6028272259281948e-05},\n",
       " {'ALEGRIA': 0.9999924898147583, 'MEDO': 7.551387170678936e-06},\n",
       " {'ALEGRIA': 0.9579688906669617, 'MEDO': 0.04203109070658684},\n",
       " {'ALEGRIA': 0.08399705588817596, 'MEDO': 0.9160029292106628},\n",
       " {'ALEGRIA': 0.00030155389686115086, 'MEDO': 0.9996985197067261},\n",
       " {'ALEGRIA': 1.0, 'MEDO': 2.3568819784713924e-08},\n",
       " {'ALEGRIA': 0.9997755885124207, 'MEDO': 0.00022438085579779},\n",
       " {'ALEGRIA': 0.010346046648919582, 'MEDO': 0.989654004573822},\n",
       " {'ALEGRIA': 0.00025415277923457325, 'MEDO': 0.999745786190033},\n",
       " {'ALEGRIA': 0.15917131304740906, 'MEDO': 0.8408286571502686},\n",
       " {'ALEGRIA': 0.9999992847442627, 'MEDO': 7.138558544284024e-07},\n",
       " {'ALEGRIA': 0.2784751057624817, 'MEDO': 0.7215248346328735},\n",
       " {'ALEGRIA': 0.46967217326164246, 'MEDO': 0.5303278565406799},\n",
       " {'ALEGRIA': 0.9999988079071045, 'MEDO': 1.189802901535586e-06},\n",
       " {'ALEGRIA': 0.19303648173809052, 'MEDO': 0.8069634437561035},\n",
       " {'ALEGRIA': 0.9638069868087769, 'MEDO': 0.03619300201535225},\n",
       " {'ALEGRIA': 0.11665613204240799, 'MEDO': 0.8833438754081726},\n",
       " {'ALEGRIA': 0.9999741315841675, 'MEDO': 2.5845534764812328e-05},\n",
       " {'ALEGRIA': 0.9990636706352234, 'MEDO': 0.0009363675490021706},\n",
       " {'ALEGRIA': 1.3892807828597142e-06, 'MEDO': 0.9999985694885254},\n",
       " {'ALEGRIA': 0.007944902405142784, 'MEDO': 0.9920551180839539},\n",
       " {'ALEGRIA': 0.9973964691162109, 'MEDO': 0.002603566739708185},\n",
       " {'ALEGRIA': 0.99919193983078, 'MEDO': 0.0008080204715952277},\n",
       " {'ALEGRIA': 0.4086779057979584, 'MEDO': 0.5913220643997192},\n",
       " {'ALEGRIA': 3.0044847676435893e-07, 'MEDO': 0.9999996423721313},\n",
       " {'ALEGRIA': 9.687619950682347e-08, 'MEDO': 0.9999998807907104},\n",
       " {'ALEGRIA': 5.513222589570432e-08, 'MEDO': 1.0},\n",
       " {'ALEGRIA': 0.8682870268821716, 'MEDO': 0.1317128986120224},\n",
       " {'ALEGRIA': 0.009788774885237217, 'MEDO': 0.9902111887931824},\n",
       " {'ALEGRIA': 0.9623662829399109, 'MEDO': 0.037633687257766724},\n",
       " {'ALEGRIA': 0.9999293088912964, 'MEDO': 7.0685833634343e-05},\n",
       " {'ALEGRIA': 1.7470572856836952e-05, 'MEDO': 0.999982476234436},\n",
       " {'ALEGRIA': 0.9985955357551575, 'MEDO': 0.0014044236158952117},\n",
       " {'ALEGRIA': 0.999957799911499, 'MEDO': 4.214765431242995e-05},\n",
       " {'ALEGRIA': 0.9997996687889099, 'MEDO': 0.00020033391774632037},\n",
       " {'ALEGRIA': 0.9999954700469971, 'MEDO': 4.509922746365191e-06},\n",
       " {'ALEGRIA': 0.999996542930603, 'MEDO': 3.4169340779044433e-06},\n",
       " {'ALEGRIA': 0.1574605107307434, 'MEDO': 0.8425394892692566},\n",
       " {'ALEGRIA': 0.9997499585151672, 'MEDO': 0.0002500250702723861},\n",
       " {'ALEGRIA': 0.999969482421875, 'MEDO': 3.0477714972221293e-05},\n",
       " {'ALEGRIA': 0.21169207990169525, 'MEDO': 0.7883079051971436},\n",
       " {'ALEGRIA': 0.9991938471794128, 'MEDO': 0.0008061750559136271},\n",
       " {'ALEGRIA': 0.9999449253082275, 'MEDO': 5.5121916375355795e-05},\n",
       " {'ALEGRIA': 0.07429417222738266, 'MEDO': 0.9257057905197144},\n",
       " {'ALEGRIA': 0.0010874620638787746, 'MEDO': 0.9989125728607178},\n",
       " {'ALEGRIA': 0.08382625132799149, 'MEDO': 0.9161737561225891},\n",
       " {'ALEGRIA': 3.4055869946314488e-06, 'MEDO': 0.999996542930603},\n",
       " {'ALEGRIA': 4.612488737620879e-06, 'MEDO': 0.9999953508377075},\n",
       " {'ALEGRIA': 0.0003870269865728915, 'MEDO': 0.9996129870414734},\n",
       " {'ALEGRIA': 0.9999812841415405, 'MEDO': 1.8699638530961238e-05},\n",
       " {'ALEGRIA': 0.9998676776885986, 'MEDO': 0.00013230135664343834},\n",
       " {'ALEGRIA': 2.2106645701569505e-05, 'MEDO': 0.9999779462814331},\n",
       " {'ALEGRIA': 0.9999959468841553, 'MEDO': 4.058163995068753e-06}]"
      ]
     },
     "execution_count": 58,
     "metadata": {},
     "output_type": "execute_result"
    }
   ],
   "source": [
    "previsoes"
   ]
  },
  {
   "cell_type": "code",
   "execution_count": 59,
   "id": "11b50da3",
   "metadata": {},
   "outputs": [],
   "source": [
    "previsoes_final = []\n",
    "for previsao in previsoes:\n",
    "    if previsao['ALEGRIA'] > previsao['MEDO']:\n",
    "        previsoes_final.append('alegria')\n",
    "    else:\n",
    "        previsoes_final.append('medo')\n",
    "        \n",
    "previsoes_final = np.array(previsoes_final)"
   ]
  },
  {
   "cell_type": "code",
   "execution_count": 60,
   "id": "f8a33272",
   "metadata": {},
   "outputs": [
    {
     "data": {
      "text/plain": [
       "array(['medo', 'alegria', 'medo', 'alegria', 'alegria', 'alegria', 'medo',\n",
       "       'alegria', 'alegria', 'alegria', 'alegria', 'medo', 'medo',\n",
       "       'alegria', 'alegria', 'alegria', 'alegria', 'alegria', 'medo',\n",
       "       'medo', 'alegria', 'alegria', 'medo', 'alegria', 'medo', 'alegria',\n",
       "       'alegria', 'alegria', 'medo', 'medo', 'alegria', 'alegria',\n",
       "       'alegria', 'alegria', 'medo', 'medo', 'alegria', 'alegria', 'medo',\n",
       "       'medo', 'medo', 'alegria', 'medo', 'medo', 'alegria', 'medo',\n",
       "       'alegria', 'medo', 'alegria', 'alegria', 'medo', 'medo', 'alegria',\n",
       "       'alegria', 'medo', 'medo', 'medo', 'medo', 'alegria', 'medo',\n",
       "       'alegria', 'alegria', 'medo', 'alegria', 'alegria', 'alegria',\n",
       "       'alegria', 'alegria', 'medo', 'alegria', 'alegria', 'medo',\n",
       "       'alegria', 'alegria', 'medo', 'medo', 'medo', 'medo', 'medo',\n",
       "       'medo', 'alegria', 'alegria', 'medo', 'alegria'], dtype='<U7')"
      ]
     },
     "execution_count": 60,
     "metadata": {},
     "output_type": "execute_result"
    }
   ],
   "source": [
    "previsoes_final"
   ]
  },
  {
   "cell_type": "code",
   "execution_count": 61,
   "id": "7565b279",
   "metadata": {},
   "outputs": [],
   "source": [
    "respostas_reais = base_dados_teste['emocao'].values"
   ]
  },
  {
   "cell_type": "code",
   "execution_count": 62,
   "id": "24e890c3",
   "metadata": {},
   "outputs": [
    {
     "data": {
      "text/plain": [
       "0.5357142857142857"
      ]
     },
     "execution_count": 62,
     "metadata": {},
     "output_type": "execute_result"
    }
   ],
   "source": [
    "accuracy_score(respostas_reais, previsoes_final)"
   ]
  },
  {
   "cell_type": "code",
   "execution_count": 63,
   "id": "ad3481db",
   "metadata": {},
   "outputs": [
    {
     "data": {
      "text/plain": [
       "array([[28, 20],\n",
       "       [19, 17]], dtype=int64)"
      ]
     },
     "execution_count": 63,
     "metadata": {},
     "output_type": "execute_result"
    }
   ],
   "source": [
    "cm = confusion_matrix(respostas_reais, previsoes_final)\n",
    "cm"
   ]
  }
 ],
 "metadata": {
  "kernelspec": {
   "display_name": "Python 3 (ipykernel)",
   "language": "python",
   "name": "python3"
  },
  "language_info": {
   "codemirror_mode": {
    "name": "ipython",
    "version": 3
   },
   "file_extension": ".py",
   "mimetype": "text/x-python",
   "name": "python",
   "nbconvert_exporter": "python",
   "pygments_lexer": "ipython3",
   "version": "3.10.9"
  }
 },
 "nbformat": 4,
 "nbformat_minor": 5
}
