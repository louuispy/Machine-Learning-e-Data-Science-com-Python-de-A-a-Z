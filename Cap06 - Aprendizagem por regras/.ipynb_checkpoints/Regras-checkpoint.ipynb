{
 "cells": [
  {
   "cell_type": "markdown",
   "id": "9004f321",
   "metadata": {},
   "source": [
    "# Machine Learning e Data Science com Python de A à Z"
   ]
  },
  {
   "cell_type": "markdown",
   "id": "392da71b",
   "metadata": {},
   "source": [
    "# Regras"
   ]
  },
  {
   "cell_type": "markdown",
   "id": "51376f43",
   "metadata": {},
   "source": [
    "## Base risco de crédito"
   ]
  },
  {
   "cell_type": "code",
   "execution_count": 1,
   "id": "435739d5",
   "metadata": {},
   "outputs": [],
   "source": [
    "import Orange"
   ]
  },
  {
   "cell_type": "code",
   "execution_count": 2,
   "id": "7da99b18",
   "metadata": {},
   "outputs": [],
   "source": [
    "base_risco_credito = Orange.data.Table('risco_credito_regras.csv')"
   ]
  },
  {
   "cell_type": "code",
   "execution_count": 3,
   "id": "f14ca931",
   "metadata": {},
   "outputs": [
    {
     "data": {
      "text/plain": [
       "[[ruim, alta, nenhuma, 0_15 | alto],\n",
       " [desconhecida, alta, nenhuma, 15_35 | alto],\n",
       " [desconhecida, baixa, nenhuma, 15_35 | moderado],\n",
       " [desconhecida, baixa, nenhuma, acima_35 | alto],\n",
       " [desconhecida, baixa, nenhuma, acima_35 | baixo],\n",
       " ...\n",
       "]"
      ]
     },
     "execution_count": 3,
     "metadata": {},
     "output_type": "execute_result"
    }
   ],
   "source": [
    "base_risco_credito"
   ]
  },
  {
   "cell_type": "code",
   "execution_count": 4,
   "id": "42d50ab2",
   "metadata": {},
   "outputs": [
    {
     "data": {
      "text/plain": [
       "[historia, divida, garantias, renda | risco]"
      ]
     },
     "execution_count": 4,
     "metadata": {},
     "output_type": "execute_result"
    }
   ],
   "source": [
    "base_risco_credito.domain"
   ]
  },
  {
   "cell_type": "code",
   "execution_count": 5,
   "id": "c72c51df",
   "metadata": {},
   "outputs": [],
   "source": [
    "cn2 = Orange.classification.rules.CN2Learner()\n",
    "regras_risco_credito = cn2(base_risco_credito)"
   ]
  },
  {
   "cell_type": "code",
   "execution_count": 6,
   "id": "85d83f04",
   "metadata": {},
   "outputs": [
    {
     "name": "stdout",
     "output_type": "stream",
     "text": [
      "IF renda==0_15 THEN risco=alto \n",
      "IF historia==boa AND divida!=alta THEN risco=baixo \n",
      "IF historia==boa AND garantias!=nenhuma THEN risco=baixo \n",
      "IF historia==boa AND renda!=15_35 THEN risco=baixo \n",
      "IF historia==boa THEN risco=moderado \n",
      "IF divida==alta THEN risco=alto \n",
      "IF historia!=desconhecida THEN risco=moderado \n",
      "IF garantias==adequada THEN risco=baixo \n",
      "IF renda==15_35 THEN risco=moderado \n",
      "IF historia==desconhecida THEN risco=alto \n",
      "IF TRUE THEN risco=alto \n"
     ]
    }
   ],
   "source": [
    "for regras in regras_risco_credito.rule_list:\n",
    "    print(regras)"
   ]
  },
  {
   "cell_type": "code",
   "execution_count": 7,
   "id": "555ebb3b",
   "metadata": {
    "scrolled": true
   },
   "outputs": [
    {
     "data": {
      "text/plain": [
       "array([1, 0], dtype=int64)"
      ]
     },
     "execution_count": 7,
     "metadata": {},
     "output_type": "execute_result"
    }
   ],
   "source": [
    "# historia boa, divida alta, garantias nenhuma, renda > 35\n",
    "# historia ruim, dívida alta, garantias adequada, renda < 15\n",
    "previsoes = regras_risco_credito([ ['boa', 'alta', 'nenhuma', 'acima_35'], ['ruim', 'alta', 'adequada', '0_15'] ])\n",
    "previsoes"
   ]
  },
  {
   "cell_type": "code",
   "execution_count": 8,
   "id": "936c9bf5",
   "metadata": {},
   "outputs": [
    {
     "data": {
      "text/plain": [
       "('alto', 'baixo', 'moderado')"
      ]
     },
     "execution_count": 8,
     "metadata": {},
     "output_type": "execute_result"
    }
   ],
   "source": [
    "base_risco_credito.domain.class_var.values"
   ]
  },
  {
   "cell_type": "code",
   "execution_count": 9,
   "id": "c04f7203",
   "metadata": {
    "scrolled": false
   },
   "outputs": [
    {
     "name": "stdout",
     "output_type": "stream",
     "text": [
      "baixo\n",
      "alto\n"
     ]
    }
   ],
   "source": [
    "for i in previsoes:\n",
    "    print(base_risco_credito.domain.class_var.values[i])"
   ]
  },
  {
   "cell_type": "markdown",
   "id": "fab34655",
   "metadata": {},
   "source": [
    "## Base credit data"
   ]
  },
  {
   "cell_type": "code",
   "execution_count": 10,
   "id": "9a90c902",
   "metadata": {},
   "outputs": [],
   "source": [
    "base_credit = Orange.data.Table('credit_data_regras.csv')"
   ]
  },
  {
   "cell_type": "code",
   "execution_count": 11,
   "id": "9471d0f3",
   "metadata": {},
   "outputs": [
    {
     "data": {
      "text/plain": [
       "[[66155.9, 59.017, 8106.53 | 0],\n",
       " [34415.2, 48.1172, 6564.75 | 0],\n",
       " [57317.2, 63.108, 8020.95 | 0],\n",
       " [42709.5, 45.752, 6103.64 | 0],\n",
       " [66952.7, 18.5843, 8770.1 | 1],\n",
       " ...\n",
       "]"
      ]
     },
     "execution_count": 11,
     "metadata": {},
     "output_type": "execute_result"
    }
   ],
   "source": [
    "base_credit"
   ]
  },
  {
   "cell_type": "code",
   "execution_count": 12,
   "id": "61fe0db5",
   "metadata": {},
   "outputs": [
    {
     "data": {
      "text/plain": [
       "[income, age, loan | default]"
      ]
     },
     "execution_count": 12,
     "metadata": {},
     "output_type": "execute_result"
    }
   ],
   "source": [
    "base_credit.domain"
   ]
  },
  {
   "cell_type": "code",
   "execution_count": 13,
   "id": "ec1babba",
   "metadata": {},
   "outputs": [],
   "source": [
    "base_dividida = Orange.evaluation.testing.sample(base_credit, n = 0.25)"
   ]
  },
  {
   "cell_type": "code",
   "execution_count": 14,
   "id": "eaeed1c3",
   "metadata": {},
   "outputs": [
    {
     "data": {
      "text/plain": [
       "([[34928, 54.1529, 1957.06 | 0],\n",
       "  [59417.8, ?, 2082.63 | 0],\n",
       "  [38500, 53.9307, 7571.68 | 0],\n",
       "  [48548, 56.6415, 1940.87 | 0],\n",
       "  [48433.4, 28.532, 789.633 | 0],\n",
       "  ...\n",
       " ],\n",
       " [[62724.6, 39.8354, 9255.14 | 0],\n",
       "  [57303.5, 52.1554, 10491.6 | 0],\n",
       "  [37633.1, 29.4214, 868.162 | 0],\n",
       "  [41004.3, 55.8491, 1016.14 | 0],\n",
       "  [68550.7, 19.3612, 3879.67 | 0],\n",
       "  ...\n",
       " ])"
      ]
     },
     "execution_count": 14,
     "metadata": {},
     "output_type": "execute_result"
    }
   ],
   "source": [
    "base_dividida"
   ]
  },
  {
   "cell_type": "code",
   "execution_count": 15,
   "id": "64a37f62",
   "metadata": {},
   "outputs": [
    {
     "data": {
      "text/plain": [
       "[[62724.6, 39.8354, 9255.14 | 0],\n",
       " [57303.5, 52.1554, 10491.6 | 0],\n",
       " [37633.1, 29.4214, 868.162 | 0],\n",
       " [41004.3, 55.8491, 1016.14 | 0],\n",
       " [68550.7, 19.3612, 3879.67 | 0],\n",
       " ...\n",
       "]"
      ]
     },
     "execution_count": 15,
     "metadata": {},
     "output_type": "execute_result"
    }
   ],
   "source": [
    "base_dividida[1]"
   ]
  },
  {
   "cell_type": "code",
   "execution_count": 16,
   "id": "5832fecd",
   "metadata": {},
   "outputs": [],
   "source": [
    "base_treinamento = base_dividida[1]\n",
    "base_teste = base_dividida[0]"
   ]
  },
  {
   "cell_type": "code",
   "execution_count": 17,
   "id": "de37ae7e",
   "metadata": {},
   "outputs": [
    {
     "data": {
      "text/plain": [
       "(1500, 500)"
      ]
     },
     "execution_count": 17,
     "metadata": {},
     "output_type": "execute_result"
    }
   ],
   "source": [
    "len(base_treinamento), len(base_teste)"
   ]
  },
  {
   "cell_type": "code",
   "execution_count": 18,
   "id": "c668a78b",
   "metadata": {},
   "outputs": [],
   "source": [
    "cn2 = Orange.classification.rules.CN2Learner()\n",
    "regras_credit = cn2(base_treinamento)"
   ]
  },
  {
   "cell_type": "code",
   "execution_count": 19,
   "id": "d08ba94b",
   "metadata": {},
   "outputs": [
    {
     "name": "stdout",
     "output_type": "stream",
     "text": [
      "IF age>=34.9257164876908 THEN default=0 \n",
      "IF loan<=2507.64970973955 AND income>=20145.9885970689 THEN default=0 \n",
      "IF loan>=7708.31562497011 AND age>=18.1760434475727 THEN default=1 \n",
      "IF income>=57596.3540980592 THEN default=0 \n",
      "IF loan>=5659.509277874139 AND loan>=6241.27050834808 THEN default=1 \n",
      "IF income>=48552.843409124805 AND income>=50360.6787929311 THEN default=0 \n",
      "IF loan>=5836.56338145928 THEN default=1 \n",
      "IF income<=31702.3342987522 AND age>=32.1632712800056 THEN default=1 \n",
      "IF income<=31702.3342987522 AND age>=31.9685264034197 THEN default=0 \n",
      "IF income<=31702.3342987522 AND age>=28.797041818499604 THEN default=1 \n",
      "IF income<=31702.3342987522 AND loan>=3682.8619314122707 THEN default=1 \n",
      "IF income<=26617.0303151011 AND age>=28.616509240120603 THEN default=0 \n",
      "IF income>=34145.7995516248 AND income>=46024.1445619613 THEN default=0 \n",
      "IF loan>=5416.3577980789005 THEN default=1 \n",
      "IF age>=28.354908418376002 AND income>=34145.7995516248 THEN default=0 \n",
      "IF income<=27407.056202646298 AND age>=26.382710393052502 THEN default=1 \n",
      "IF income>=40496.2558229454 THEN default=0 \n",
      "IF loan>=4625.19337762744 THEN default=1 \n",
      "IF income>=33489.0398592688 THEN default=0 \n",
      "IF loan>=4285.38691174949 THEN default=1 \n",
      "IF income>=29775.1422203146 THEN default=0 \n",
      "IF age>=26.159438316244604 THEN default=0 \n",
      "IF income>=25640.0788831525 THEN default=1 \n",
      "IF income>=24857.6948815025 THEN default=0 \n",
      "IF income<=21605.7250904851 THEN default=1 \n",
      "IF TRUE THEN default=0 \n"
     ]
    }
   ],
   "source": [
    "for regras in regras_credit.rule_list:\n",
    "    print(regras)"
   ]
  },
  {
   "cell_type": "code",
   "execution_count": 20,
   "id": "34e4cd33",
   "metadata": {},
   "outputs": [],
   "source": [
    "previsoes = Orange.evaluation.testing.TestOnTestData(base_treinamento, base_teste, [lambda testdata: regras_credit])"
   ]
  },
  {
   "cell_type": "code",
   "execution_count": 21,
   "id": "09d7a777",
   "metadata": {},
   "outputs": [
    {
     "data": {
      "text/plain": [
       "<Orange.evaluation.testing.Results at 0x1a8fe7acdf0>"
      ]
     },
     "execution_count": 21,
     "metadata": {},
     "output_type": "execute_result"
    }
   ],
   "source": [
    "previsoes"
   ]
  },
  {
   "cell_type": "code",
   "execution_count": 22,
   "id": "1362ce4b",
   "metadata": {},
   "outputs": [
    {
     "data": {
      "text/plain": [
       "array([0.992])"
      ]
     },
     "execution_count": 22,
     "metadata": {},
     "output_type": "execute_result"
    }
   ],
   "source": [
    "Orange.evaluation.CA(previsoes)"
   ]
  }
 ],
 "metadata": {
  "kernelspec": {
   "display_name": "Python 3 (ipykernel)",
   "language": "python",
   "name": "python3"
  },
  "language_info": {
   "codemirror_mode": {
    "name": "ipython",
    "version": 3
   },
   "file_extension": ".py",
   "mimetype": "text/x-python",
   "name": "python",
   "nbconvert_exporter": "python",
   "pygments_lexer": "ipython3",
   "version": "3.10.9"
  }
 },
 "nbformat": 4,
 "nbformat_minor": 5
}
