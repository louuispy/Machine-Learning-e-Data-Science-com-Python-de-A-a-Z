{
 "cells": [
  {
   "cell_type": "markdown",
   "id": "3d4a74a2-5256-4e1e-a5c6-a29e9ba3d326",
   "metadata": {},
   "source": [
    "# Machine Learning e Data Science com Python de A à Z"
   ]
  },
  {
   "cell_type": "markdown",
   "id": "b140ab9f-b486-44c1-ba2c-9424dad7d43a",
   "metadata": {},
   "source": [
    "# Seleção de atributos"
   ]
  },
  {
   "cell_type": "markdown",
   "id": "57d2ae91-5afd-4557-b69a-530e60dc71c5",
   "metadata": {},
   "source": [
    "## Preparação da base de dados"
   ]
  },
  {
   "cell_type": "code",
   "execution_count": 1,
   "id": "1b2304fa-c3d3-4779-af71-7c3c414b6dfa",
   "metadata": {},
   "outputs": [],
   "source": [
    "import pandas as pd \n",
    "import numpy as np \n",
    "import matplotlib.pyplot as plt \n",
    "import seaborn as sns \n",
    "import os "
   ]
  },
  {
   "cell_type": "code",
   "execution_count": 2,
   "id": "19ae116f-d5d6-480e-8bc8-0b016ba22e41",
   "metadata": {
    "scrolled": true
   },
   "outputs": [
    {
     "data": {
      "text/html": [
       "<div>\n",
       "<style scoped>\n",
       "    .dataframe tbody tr th:only-of-type {\n",
       "        vertical-align: middle;\n",
       "    }\n",
       "\n",
       "    .dataframe tbody tr th {\n",
       "        vertical-align: top;\n",
       "    }\n",
       "\n",
       "    .dataframe thead th {\n",
       "        text-align: right;\n",
       "    }\n",
       "</style>\n",
       "<table border=\"1\" class=\"dataframe\">\n",
       "  <thead>\n",
       "    <tr style=\"text-align: right;\">\n",
       "      <th></th>\n",
       "      <th>age</th>\n",
       "      <th>workclass</th>\n",
       "      <th>final-weight</th>\n",
       "      <th>education</th>\n",
       "      <th>education-num</th>\n",
       "      <th>marital-status</th>\n",
       "      <th>occupation</th>\n",
       "      <th>relationship</th>\n",
       "      <th>race</th>\n",
       "      <th>sex</th>\n",
       "      <th>capital-gain</th>\n",
       "      <th>capital-loos</th>\n",
       "      <th>hour-per-week</th>\n",
       "      <th>native-country</th>\n",
       "      <th>income</th>\n",
       "    </tr>\n",
       "  </thead>\n",
       "  <tbody>\n",
       "    <tr>\n",
       "      <th>0</th>\n",
       "      <td>39</td>\n",
       "      <td>State-gov</td>\n",
       "      <td>77516</td>\n",
       "      <td>Bachelors</td>\n",
       "      <td>13</td>\n",
       "      <td>Never-married</td>\n",
       "      <td>Adm-clerical</td>\n",
       "      <td>Not-in-family</td>\n",
       "      <td>White</td>\n",
       "      <td>Male</td>\n",
       "      <td>2174</td>\n",
       "      <td>0</td>\n",
       "      <td>40</td>\n",
       "      <td>United-States</td>\n",
       "      <td>&lt;=50K</td>\n",
       "    </tr>\n",
       "    <tr>\n",
       "      <th>1</th>\n",
       "      <td>50</td>\n",
       "      <td>Self-emp-not-inc</td>\n",
       "      <td>83311</td>\n",
       "      <td>Bachelors</td>\n",
       "      <td>13</td>\n",
       "      <td>Married-civ-spouse</td>\n",
       "      <td>Exec-managerial</td>\n",
       "      <td>Husband</td>\n",
       "      <td>White</td>\n",
       "      <td>Male</td>\n",
       "      <td>0</td>\n",
       "      <td>0</td>\n",
       "      <td>13</td>\n",
       "      <td>United-States</td>\n",
       "      <td>&lt;=50K</td>\n",
       "    </tr>\n",
       "    <tr>\n",
       "      <th>2</th>\n",
       "      <td>38</td>\n",
       "      <td>Private</td>\n",
       "      <td>215646</td>\n",
       "      <td>HS-grad</td>\n",
       "      <td>9</td>\n",
       "      <td>Divorced</td>\n",
       "      <td>Handlers-cleaners</td>\n",
       "      <td>Not-in-family</td>\n",
       "      <td>White</td>\n",
       "      <td>Male</td>\n",
       "      <td>0</td>\n",
       "      <td>0</td>\n",
       "      <td>40</td>\n",
       "      <td>United-States</td>\n",
       "      <td>&lt;=50K</td>\n",
       "    </tr>\n",
       "    <tr>\n",
       "      <th>3</th>\n",
       "      <td>53</td>\n",
       "      <td>Private</td>\n",
       "      <td>234721</td>\n",
       "      <td>11th</td>\n",
       "      <td>7</td>\n",
       "      <td>Married-civ-spouse</td>\n",
       "      <td>Handlers-cleaners</td>\n",
       "      <td>Husband</td>\n",
       "      <td>Black</td>\n",
       "      <td>Male</td>\n",
       "      <td>0</td>\n",
       "      <td>0</td>\n",
       "      <td>40</td>\n",
       "      <td>United-States</td>\n",
       "      <td>&lt;=50K</td>\n",
       "    </tr>\n",
       "    <tr>\n",
       "      <th>4</th>\n",
       "      <td>28</td>\n",
       "      <td>Private</td>\n",
       "      <td>338409</td>\n",
       "      <td>Bachelors</td>\n",
       "      <td>13</td>\n",
       "      <td>Married-civ-spouse</td>\n",
       "      <td>Prof-specialty</td>\n",
       "      <td>Wife</td>\n",
       "      <td>Black</td>\n",
       "      <td>Female</td>\n",
       "      <td>0</td>\n",
       "      <td>0</td>\n",
       "      <td>40</td>\n",
       "      <td>Cuba</td>\n",
       "      <td>&lt;=50K</td>\n",
       "    </tr>\n",
       "    <tr>\n",
       "      <th>...</th>\n",
       "      <td>...</td>\n",
       "      <td>...</td>\n",
       "      <td>...</td>\n",
       "      <td>...</td>\n",
       "      <td>...</td>\n",
       "      <td>...</td>\n",
       "      <td>...</td>\n",
       "      <td>...</td>\n",
       "      <td>...</td>\n",
       "      <td>...</td>\n",
       "      <td>...</td>\n",
       "      <td>...</td>\n",
       "      <td>...</td>\n",
       "      <td>...</td>\n",
       "      <td>...</td>\n",
       "    </tr>\n",
       "    <tr>\n",
       "      <th>32556</th>\n",
       "      <td>27</td>\n",
       "      <td>Private</td>\n",
       "      <td>257302</td>\n",
       "      <td>Assoc-acdm</td>\n",
       "      <td>12</td>\n",
       "      <td>Married-civ-spouse</td>\n",
       "      <td>Tech-support</td>\n",
       "      <td>Wife</td>\n",
       "      <td>White</td>\n",
       "      <td>Female</td>\n",
       "      <td>0</td>\n",
       "      <td>0</td>\n",
       "      <td>38</td>\n",
       "      <td>United-States</td>\n",
       "      <td>&lt;=50K</td>\n",
       "    </tr>\n",
       "    <tr>\n",
       "      <th>32557</th>\n",
       "      <td>40</td>\n",
       "      <td>Private</td>\n",
       "      <td>154374</td>\n",
       "      <td>HS-grad</td>\n",
       "      <td>9</td>\n",
       "      <td>Married-civ-spouse</td>\n",
       "      <td>Machine-op-inspct</td>\n",
       "      <td>Husband</td>\n",
       "      <td>White</td>\n",
       "      <td>Male</td>\n",
       "      <td>0</td>\n",
       "      <td>0</td>\n",
       "      <td>40</td>\n",
       "      <td>United-States</td>\n",
       "      <td>&gt;50K</td>\n",
       "    </tr>\n",
       "    <tr>\n",
       "      <th>32558</th>\n",
       "      <td>58</td>\n",
       "      <td>Private</td>\n",
       "      <td>151910</td>\n",
       "      <td>HS-grad</td>\n",
       "      <td>9</td>\n",
       "      <td>Widowed</td>\n",
       "      <td>Adm-clerical</td>\n",
       "      <td>Unmarried</td>\n",
       "      <td>White</td>\n",
       "      <td>Female</td>\n",
       "      <td>0</td>\n",
       "      <td>0</td>\n",
       "      <td>40</td>\n",
       "      <td>United-States</td>\n",
       "      <td>&lt;=50K</td>\n",
       "    </tr>\n",
       "    <tr>\n",
       "      <th>32559</th>\n",
       "      <td>22</td>\n",
       "      <td>Private</td>\n",
       "      <td>201490</td>\n",
       "      <td>HS-grad</td>\n",
       "      <td>9</td>\n",
       "      <td>Never-married</td>\n",
       "      <td>Adm-clerical</td>\n",
       "      <td>Own-child</td>\n",
       "      <td>White</td>\n",
       "      <td>Male</td>\n",
       "      <td>0</td>\n",
       "      <td>0</td>\n",
       "      <td>20</td>\n",
       "      <td>United-States</td>\n",
       "      <td>&lt;=50K</td>\n",
       "    </tr>\n",
       "    <tr>\n",
       "      <th>32560</th>\n",
       "      <td>52</td>\n",
       "      <td>Self-emp-inc</td>\n",
       "      <td>287927</td>\n",
       "      <td>HS-grad</td>\n",
       "      <td>9</td>\n",
       "      <td>Married-civ-spouse</td>\n",
       "      <td>Exec-managerial</td>\n",
       "      <td>Wife</td>\n",
       "      <td>White</td>\n",
       "      <td>Female</td>\n",
       "      <td>15024</td>\n",
       "      <td>0</td>\n",
       "      <td>40</td>\n",
       "      <td>United-States</td>\n",
       "      <td>&gt;50K</td>\n",
       "    </tr>\n",
       "  </tbody>\n",
       "</table>\n",
       "<p>32561 rows × 15 columns</p>\n",
       "</div>"
      ],
      "text/plain": [
       "       age          workclass  final-weight    education  education-num  \\\n",
       "0       39          State-gov         77516    Bachelors             13   \n",
       "1       50   Self-emp-not-inc         83311    Bachelors             13   \n",
       "2       38            Private        215646      HS-grad              9   \n",
       "3       53            Private        234721         11th              7   \n",
       "4       28            Private        338409    Bachelors             13   \n",
       "...    ...                ...           ...          ...            ...   \n",
       "32556   27            Private        257302   Assoc-acdm             12   \n",
       "32557   40            Private        154374      HS-grad              9   \n",
       "32558   58            Private        151910      HS-grad              9   \n",
       "32559   22            Private        201490      HS-grad              9   \n",
       "32560   52       Self-emp-inc        287927      HS-grad              9   \n",
       "\n",
       "            marital-status          occupation    relationship    race  \\\n",
       "0            Never-married        Adm-clerical   Not-in-family   White   \n",
       "1       Married-civ-spouse     Exec-managerial         Husband   White   \n",
       "2                 Divorced   Handlers-cleaners   Not-in-family   White   \n",
       "3       Married-civ-spouse   Handlers-cleaners         Husband   Black   \n",
       "4       Married-civ-spouse      Prof-specialty            Wife   Black   \n",
       "...                    ...                 ...             ...     ...   \n",
       "32556   Married-civ-spouse        Tech-support            Wife   White   \n",
       "32557   Married-civ-spouse   Machine-op-inspct         Husband   White   \n",
       "32558              Widowed        Adm-clerical       Unmarried   White   \n",
       "32559        Never-married        Adm-clerical       Own-child   White   \n",
       "32560   Married-civ-spouse     Exec-managerial            Wife   White   \n",
       "\n",
       "           sex  capital-gain  capital-loos  hour-per-week  native-country  \\\n",
       "0         Male          2174             0             40   United-States   \n",
       "1         Male             0             0             13   United-States   \n",
       "2         Male             0             0             40   United-States   \n",
       "3         Male             0             0             40   United-States   \n",
       "4       Female             0             0             40            Cuba   \n",
       "...        ...           ...           ...            ...             ...   \n",
       "32556   Female             0             0             38   United-States   \n",
       "32557     Male             0             0             40   United-States   \n",
       "32558   Female             0             0             40   United-States   \n",
       "32559     Male             0             0             20   United-States   \n",
       "32560   Female         15024             0             40   United-States   \n",
       "\n",
       "       income  \n",
       "0       <=50K  \n",
       "1       <=50K  \n",
       "2       <=50K  \n",
       "3       <=50K  \n",
       "4       <=50K  \n",
       "...       ...  \n",
       "32556   <=50K  \n",
       "32557    >50K  \n",
       "32558   <=50K  \n",
       "32559   <=50K  \n",
       "32560    >50K  \n",
       "\n",
       "[32561 rows x 15 columns]"
      ]
     },
     "execution_count": 2,
     "metadata": {},
     "output_type": "execute_result"
    }
   ],
   "source": [
    "base_census = pd.read_csv('census.csv')\n",
    "base_census"
   ]
  },
  {
   "cell_type": "code",
   "execution_count": 3,
   "id": "cbd6316e-7e80-4386-9fd3-174cc427653a",
   "metadata": {},
   "outputs": [
    {
     "data": {
      "text/plain": [
       "Index(['age', 'workclass', 'final-weight', 'education', 'education-num',\n",
       "       'marital-status', 'occupation', 'relationship', 'race', 'sex',\n",
       "       'capital-gain', 'capital-loos', 'hour-per-week', 'native-country'],\n",
       "      dtype='object')"
      ]
     },
     "execution_count": 3,
     "metadata": {},
     "output_type": "execute_result"
    }
   ],
   "source": [
    "colunas = base_census.columns[:-1]\n",
    "colunas"
   ]
  },
  {
   "cell_type": "code",
   "execution_count": 4,
   "id": "e2e4b92f-5676-4412-abf7-eb70cbecb732",
   "metadata": {},
   "outputs": [],
   "source": [
    "X_census = base_census.iloc[:, 0:14].values\n",
    "y_census = base_census.iloc[:, 14].values"
   ]
  },
  {
   "cell_type": "code",
   "execution_count": 5,
   "id": "a2533d02-8f3e-401f-9740-1d95abea4af0",
   "metadata": {},
   "outputs": [],
   "source": [
    "from sklearn.preprocessing import LabelEncoder\n",
    "label_encoder_workclass = LabelEncoder()\n",
    "label_encoder_education = LabelEncoder()\n",
    "label_encoder_marital = LabelEncoder()\n",
    "label_encoder_occupation = LabelEncoder()\n",
    "label_encoder_relationship = LabelEncoder()\n",
    "label_encoder_race = LabelEncoder()\n",
    "label_encoder_sex = LabelEncoder()\n",
    "label_encoder_country = LabelEncoder()\n",
    "\n",
    "X_census[:, 1] = label_encoder_workclass.fit_transform(X_census[:, 1])\n",
    "X_census[:, 3] = label_encoder_education.fit_transform(X_census[:, 3])\n",
    "X_census[:, 5] = label_encoder_marital.fit_transform(X_census[:, 5])\n",
    "X_census[:, 6] = label_encoder_occupation.fit_transform(X_census[:, 6])\n",
    "X_census[:, 7] = label_encoder_relationship.fit_transform(X_census[:, 7])\n",
    "X_census[:, 8] = label_encoder_race.fit_transform(X_census[:, 8])\n",
    "X_census[:, 9] = label_encoder_sex.fit_transform(X_census[:, 9])\n",
    "X_census[:, 13] = label_encoder_country.fit_transform(X_census[:, 13])"
   ]
  },
  {
   "cell_type": "code",
   "execution_count": 6,
   "id": "2e67df86-0849-41cd-983b-01bf1da37938",
   "metadata": {},
   "outputs": [
    {
     "data": {
      "text/plain": [
       "array([[39, 7, 77516, ..., 0, 40, 39],\n",
       "       [50, 6, 83311, ..., 0, 13, 39],\n",
       "       [38, 4, 215646, ..., 0, 40, 39],\n",
       "       ...,\n",
       "       [58, 4, 151910, ..., 0, 40, 39],\n",
       "       [22, 4, 201490, ..., 0, 20, 39],\n",
       "       [52, 5, 287927, ..., 0, 40, 39]], dtype=object)"
      ]
     },
     "execution_count": 6,
     "metadata": {},
     "output_type": "execute_result"
    }
   ],
   "source": [
    "X_census"
   ]
  },
  {
   "cell_type": "code",
   "execution_count": 7,
   "id": "d2922bff-c9a0-4239-ae1c-3f89da599610",
   "metadata": {},
   "outputs": [
    {
     "data": {
      "text/plain": [
       "array([[0.30136986, 0.875     , 0.0443019 , ..., 0.        , 0.39795918,\n",
       "        0.95121951],\n",
       "       [0.45205479, 0.75      , 0.0482376 , ..., 0.        , 0.12244898,\n",
       "        0.95121951],\n",
       "       [0.28767123, 0.5       , 0.13811345, ..., 0.        , 0.39795918,\n",
       "        0.95121951],\n",
       "       ...,\n",
       "       [0.56164384, 0.5       , 0.09482688, ..., 0.        , 0.39795918,\n",
       "        0.95121951],\n",
       "       [0.06849315, 0.5       , 0.12849934, ..., 0.        , 0.19387755,\n",
       "        0.95121951],\n",
       "       [0.47945205, 0.625     , 0.18720338, ..., 0.        , 0.39795918,\n",
       "        0.95121951]])"
      ]
     },
     "execution_count": 7,
     "metadata": {},
     "output_type": "execute_result"
    }
   ],
   "source": [
    "# Normalizaçâo\n",
    "from sklearn.preprocessing import MinMaxScaler\n",
    "scaler = MinMaxScaler()\n",
    "X_census_scaler = scaler.fit_transform(X_census)\n",
    "X_census_scaler"
   ]
  },
  {
   "cell_type": "markdown",
   "id": "53b3d7ec-7398-49b9-8f54-ec2a9b2b3bc9",
   "metadata": {},
   "source": [
    "## Low variance"
   ]
  },
  {
   "cell_type": "code",
   "execution_count": 8,
   "id": "254dd093-d16a-4037-8636-e77b63f5746d",
   "metadata": {},
   "outputs": [
    {
     "data": {
      "text/plain": [
       "14"
      ]
     },
     "execution_count": 8,
     "metadata": {},
     "output_type": "execute_result"
    }
   ],
   "source": [
    "X_census.shape[1]"
   ]
  },
  {
   "cell_type": "code",
   "execution_count": 9,
   "id": "c32cac6e-4a40-4b39-a6de-74ac76a4ca50",
   "metadata": {},
   "outputs": [
    {
     "data": {
      "text/plain": [
       "(13.640223092304081, 0.034913808595952486)"
      ]
     },
     "execution_count": 9,
     "metadata": {},
     "output_type": "execute_result"
    }
   ],
   "source": [
    "# Desvio padrão\n",
    "np.sqrt(X_census[:, 0].var()), X_census_scaler[:, 0].var()"
   ]
  },
  {
   "cell_type": "code",
   "execution_count": 10,
   "id": "dd28fba2-4591-40ac-9076-0697d9eb3304",
   "metadata": {},
   "outputs": [
    {
     "name": "stdout",
     "output_type": "stream",
     "text": [
      "0.034913808595952486\n",
      "0.03312115190663569\n",
      "0.005138537590667898\n",
      "0.06657103564450892\n",
      "0.029416385024073417\n",
      "0.06301761677301636\n",
      "0.09123816653931152\n",
      "0.10326534394406342\n",
      "0.04502805169292987\n",
      "0.22136950173699113\n",
      "0.00545419549240862\n",
      "0.008557270623428908\n",
      "0.015874043397822807\n",
      "0.03641266114220053\n"
     ]
    }
   ],
   "source": [
    "for i in range(X_census.shape[1]):\n",
    "    # print(i)\n",
    "    print(X_census_scaler[:, i].var())"
   ]
  },
  {
   "cell_type": "code",
   "execution_count": 11,
   "id": "c245d4e3-60c2-4906-8da2-e8eac772181c",
   "metadata": {},
   "outputs": [],
   "source": [
    "from sklearn.feature_selection import VarianceThreshold"
   ]
  },
  {
   "cell_type": "code",
   "execution_count": 12,
   "id": "72a7a0c1-375e-4f52-8f28-0ee60547ebd7",
   "metadata": {},
   "outputs": [
    {
     "data": {
      "text/plain": [
       "(32561, 5)"
      ]
     },
     "execution_count": 12,
     "metadata": {},
     "output_type": "execute_result"
    }
   ],
   "source": [
    "# threshold = variância mínima\n",
    "selecao = VarianceThreshold(threshold=0.05)\n",
    "X_census_variancia = selecao.fit_transform(X_census_scaler)\n",
    "X_census_variancia.shape"
   ]
  },
  {
   "cell_type": "code",
   "execution_count": 13,
   "id": "ec94b7db-b9ce-4618-94f6-2925f60b4926",
   "metadata": {},
   "outputs": [
    {
     "data": {
      "text/plain": [
       "array([[0.6       , 0.66666667, 0.07142857, 0.2       , 1.        ],\n",
       "       [0.6       , 0.33333333, 0.28571429, 0.        , 1.        ],\n",
       "       [0.73333333, 0.        , 0.42857143, 0.2       , 1.        ],\n",
       "       ...,\n",
       "       [0.73333333, 1.        , 0.07142857, 0.8       , 0.        ],\n",
       "       [0.73333333, 0.66666667, 0.07142857, 0.6       , 1.        ],\n",
       "       [0.73333333, 0.33333333, 0.28571429, 1.        , 0.        ]])"
      ]
     },
     "execution_count": 13,
     "metadata": {},
     "output_type": "execute_result"
    }
   ],
   "source": [
    "X_census_variancia"
   ]
  },
  {
   "cell_type": "code",
   "execution_count": 14,
   "id": "2bcc38db-c649-4be5-b2de-44195b524d7a",
   "metadata": {},
   "outputs": [
    {
     "data": {
      "text/plain": [
       "array([0.03491381, 0.03312115, 0.00513854, 0.06657104, 0.02941639,\n",
       "       0.06301762, 0.09123817, 0.10326534, 0.04502805, 0.2213695 ,\n",
       "       0.0054542 , 0.00855727, 0.01587404, 0.03641266])"
      ]
     },
     "execution_count": 14,
     "metadata": {},
     "output_type": "execute_result"
    }
   ],
   "source": [
    "selecao.variances_"
   ]
  },
  {
   "cell_type": "code",
   "execution_count": 15,
   "id": "362d0594-11c0-4130-84c6-4b163b392bc3",
   "metadata": {},
   "outputs": [
    {
     "data": {
      "text/plain": [
       "(array([3, 5, 6, 7, 9], dtype=int64),)"
      ]
     },
     "execution_count": 15,
     "metadata": {},
     "output_type": "execute_result"
    }
   ],
   "source": [
    "indices = np.where(selecao.variances_ > 0.05)\n",
    "indices"
   ]
  },
  {
   "cell_type": "code",
   "execution_count": 16,
   "id": "31191f99-81a7-4744-b832-2d2d2a266c94",
   "metadata": {},
   "outputs": [
    {
     "data": {
      "text/plain": [
       "Index(['education', 'marital-status', 'occupation', 'relationship', 'sex'], dtype='object')"
      ]
     },
     "execution_count": 16,
     "metadata": {},
     "output_type": "execute_result"
    }
   ],
   "source": [
    "colunas[indices]"
   ]
  },
  {
   "cell_type": "code",
   "execution_count": 17,
   "id": "c9e76441-6d9a-4306-8058-c55371dee6f6",
   "metadata": {},
   "outputs": [],
   "source": [
    "base_census_variancia = base_census.drop(columns=['age', 'workclass', 'final-weight', 'education-num', 'race', 'capital-gain', 'capital-loos', 'hour-per-week', 'native-country'],axis=1)"
   ]
  },
  {
   "cell_type": "code",
   "execution_count": 18,
   "id": "e57b9ed1-7726-481a-83b0-8a09d8d5173e",
   "metadata": {},
   "outputs": [],
   "source": [
    "X_census_variancia = base_census_variancia.iloc[:, 0:5].values\n",
    "y_census_variancia = base_census_variancia.iloc[:, 5].values"
   ]
  },
  {
   "cell_type": "code",
   "execution_count": 19,
   "id": "54fced7e-a611-4a16-8943-54ed13454bc5",
   "metadata": {},
   "outputs": [
    {
     "data": {
      "text/plain": [
       "array([[' Bachelors', ' Never-married', ' Adm-clerical',\n",
       "        ' Not-in-family', ' Male'],\n",
       "       [' Bachelors', ' Married-civ-spouse', ' Exec-managerial',\n",
       "        ' Husband', ' Male'],\n",
       "       [' HS-grad', ' Divorced', ' Handlers-cleaners', ' Not-in-family',\n",
       "        ' Male'],\n",
       "       ...,\n",
       "       [' HS-grad', ' Widowed', ' Adm-clerical', ' Unmarried', ' Female'],\n",
       "       [' HS-grad', ' Never-married', ' Adm-clerical', ' Own-child',\n",
       "        ' Male'],\n",
       "       [' HS-grad', ' Married-civ-spouse', ' Exec-managerial', ' Wife',\n",
       "        ' Female']], dtype=object)"
      ]
     },
     "execution_count": 19,
     "metadata": {},
     "output_type": "execute_result"
    }
   ],
   "source": [
    "X_census_variancia"
   ]
  },
  {
   "cell_type": "code",
   "execution_count": 20,
   "id": "f1c5a5ec-fee8-4927-a72a-d82a71fe745d",
   "metadata": {},
   "outputs": [
    {
     "data": {
      "text/plain": [
       "array([' <=50K', ' <=50K', ' <=50K', ..., ' <=50K', ' <=50K', ' >50K'],\n",
       "      dtype=object)"
      ]
     },
     "execution_count": 20,
     "metadata": {},
     "output_type": "execute_result"
    }
   ],
   "source": [
    "y_census_variancia"
   ]
  },
  {
   "cell_type": "code",
   "execution_count": 21,
   "id": "2a224561-010c-4f1f-9f6c-c7bac3352895",
   "metadata": {},
   "outputs": [],
   "source": [
    "X_census_variancia[:, 0] = label_encoder_education.fit_transform(X_census_variancia[:, 0])\n",
    "X_census_variancia[:, 1] = label_encoder_marital.fit_transform(X_census_variancia[:, 1])\n",
    "X_census_variancia[:, 2] = label_encoder_occupation.fit_transform(X_census_variancia[:, 2])\n",
    "X_census_variancia[:, 3] = label_encoder_relationship.fit_transform(X_census_variancia[:, 3])\n",
    "X_census_variancia[:, 4] = label_encoder_sex.fit_transform(X_census_variancia[:, 4])"
   ]
  },
  {
   "cell_type": "code",
   "execution_count": 22,
   "id": "a17bb5b2-c4c6-478e-9d74-4f65670ad1b0",
   "metadata": {},
   "outputs": [
    {
     "data": {
      "text/plain": [
       "array([[9, 4, 1, 1, 1],\n",
       "       [9, 2, 4, 0, 1],\n",
       "       [11, 0, 6, 1, 1],\n",
       "       ...,\n",
       "       [11, 6, 1, 4, 0],\n",
       "       [11, 4, 1, 3, 1],\n",
       "       [11, 2, 4, 5, 0]], dtype=object)"
      ]
     },
     "execution_count": 22,
     "metadata": {},
     "output_type": "execute_result"
    }
   ],
   "source": [
    "X_census_variancia"
   ]
  },
  {
   "cell_type": "code",
   "execution_count": 23,
   "id": "d5c30cdf-926c-43a8-b88e-2ebda20ba564",
   "metadata": {},
   "outputs": [
    {
     "data": {
      "text/plain": [
       "array([[0., 0., 0., ..., 0., 0., 1.],\n",
       "       [0., 0., 0., ..., 0., 0., 1.],\n",
       "       [0., 0., 0., ..., 0., 0., 1.],\n",
       "       ...,\n",
       "       [0., 0., 0., ..., 0., 1., 0.],\n",
       "       [0., 0., 0., ..., 0., 0., 1.],\n",
       "       [0., 0., 0., ..., 1., 1., 0.]])"
      ]
     },
     "execution_count": 23,
     "metadata": {},
     "output_type": "execute_result"
    }
   ],
   "source": [
    "from sklearn.preprocessing import OneHotEncoder\n",
    "from sklearn.compose import ColumnTransformer\n",
    "onehotencoder = ColumnTransformer(transformers=[(\"OneHot\", OneHotEncoder(), [0,1,2,3,4])], remainder='passthrough')\n",
    "X_census_variancia = onehotencoder.fit_transform(X_census_variancia).toarray()\n",
    "X_census_variancia"
   ]
  },
  {
   "cell_type": "code",
   "execution_count": 24,
   "id": "47cdb069-3b42-4bb9-94de-095caba370fd",
   "metadata": {},
   "outputs": [
    {
     "data": {
      "text/plain": [
       "array([[0., 0., 0., ..., 0., 0., 1.],\n",
       "       [0., 0., 0., ..., 0., 0., 1.],\n",
       "       [0., 0., 0., ..., 0., 0., 1.],\n",
       "       ...,\n",
       "       [0., 0., 0., ..., 0., 1., 0.],\n",
       "       [0., 0., 0., ..., 0., 0., 1.],\n",
       "       [0., 0., 0., ..., 1., 1., 0.]])"
      ]
     },
     "execution_count": 24,
     "metadata": {},
     "output_type": "execute_result"
    }
   ],
   "source": [
    "scaler = MinMaxScaler()\n",
    "X_census_variancia = scaler.fit_transform(X_census_variancia)\n",
    "X_census_variancia"
   ]
  },
  {
   "cell_type": "code",
   "execution_count": 25,
   "id": "c6a991d5-2408-4b4c-bdc9-09c99e926dc5",
   "metadata": {},
   "outputs": [
    {
     "data": {
      "text/plain": [
       "((27676, 46), (4885, 46))"
      ]
     },
     "execution_count": 25,
     "metadata": {},
     "output_type": "execute_result"
    }
   ],
   "source": [
    "from sklearn.model_selection import train_test_split\n",
    "X_census_treinamento_var, X_census_teste_var, y_census_treinamento_var, y_census_teste_var = train_test_split(X_census_variancia, y_census_variancia, test_size=0.15, random_state=0)\n",
    "X_census_treinamento_var.shape, X_census_teste_var.shape"
   ]
  },
  {
   "cell_type": "code",
   "execution_count": 26,
   "id": "07c20d86-49ce-4825-8f49-6866caffc387",
   "metadata": {},
   "outputs": [
    {
     "data": {
      "text/html": [
       "<style>#sk-container-id-1 {color: black;background-color: white;}#sk-container-id-1 pre{padding: 0;}#sk-container-id-1 div.sk-toggleable {background-color: white;}#sk-container-id-1 label.sk-toggleable__label {cursor: pointer;display: block;width: 100%;margin-bottom: 0;padding: 0.3em;box-sizing: border-box;text-align: center;}#sk-container-id-1 label.sk-toggleable__label-arrow:before {content: \"▸\";float: left;margin-right: 0.25em;color: #696969;}#sk-container-id-1 label.sk-toggleable__label-arrow:hover:before {color: black;}#sk-container-id-1 div.sk-estimator:hover label.sk-toggleable__label-arrow:before {color: black;}#sk-container-id-1 div.sk-toggleable__content {max-height: 0;max-width: 0;overflow: hidden;text-align: left;background-color: #f0f8ff;}#sk-container-id-1 div.sk-toggleable__content pre {margin: 0.2em;color: black;border-radius: 0.25em;background-color: #f0f8ff;}#sk-container-id-1 input.sk-toggleable__control:checked~div.sk-toggleable__content {max-height: 200px;max-width: 100%;overflow: auto;}#sk-container-id-1 input.sk-toggleable__control:checked~label.sk-toggleable__label-arrow:before {content: \"▾\";}#sk-container-id-1 div.sk-estimator input.sk-toggleable__control:checked~label.sk-toggleable__label {background-color: #d4ebff;}#sk-container-id-1 div.sk-label input.sk-toggleable__control:checked~label.sk-toggleable__label {background-color: #d4ebff;}#sk-container-id-1 input.sk-hidden--visually {border: 0;clip: rect(1px 1px 1px 1px);clip: rect(1px, 1px, 1px, 1px);height: 1px;margin: -1px;overflow: hidden;padding: 0;position: absolute;width: 1px;}#sk-container-id-1 div.sk-estimator {font-family: monospace;background-color: #f0f8ff;border: 1px dotted black;border-radius: 0.25em;box-sizing: border-box;margin-bottom: 0.5em;}#sk-container-id-1 div.sk-estimator:hover {background-color: #d4ebff;}#sk-container-id-1 div.sk-parallel-item::after {content: \"\";width: 100%;border-bottom: 1px solid gray;flex-grow: 1;}#sk-container-id-1 div.sk-label:hover label.sk-toggleable__label {background-color: #d4ebff;}#sk-container-id-1 div.sk-serial::before {content: \"\";position: absolute;border-left: 1px solid gray;box-sizing: border-box;top: 0;bottom: 0;left: 50%;z-index: 0;}#sk-container-id-1 div.sk-serial {display: flex;flex-direction: column;align-items: center;background-color: white;padding-right: 0.2em;padding-left: 0.2em;position: relative;}#sk-container-id-1 div.sk-item {position: relative;z-index: 1;}#sk-container-id-1 div.sk-parallel {display: flex;align-items: stretch;justify-content: center;background-color: white;position: relative;}#sk-container-id-1 div.sk-item::before, #sk-container-id-1 div.sk-parallel-item::before {content: \"\";position: absolute;border-left: 1px solid gray;box-sizing: border-box;top: 0;bottom: 0;left: 50%;z-index: -1;}#sk-container-id-1 div.sk-parallel-item {display: flex;flex-direction: column;z-index: 1;position: relative;background-color: white;}#sk-container-id-1 div.sk-parallel-item:first-child::after {align-self: flex-end;width: 50%;}#sk-container-id-1 div.sk-parallel-item:last-child::after {align-self: flex-start;width: 50%;}#sk-container-id-1 div.sk-parallel-item:only-child::after {width: 0;}#sk-container-id-1 div.sk-dashed-wrapped {border: 1px dashed gray;margin: 0 0.4em 0.5em 0.4em;box-sizing: border-box;padding-bottom: 0.4em;background-color: white;}#sk-container-id-1 div.sk-label label {font-family: monospace;font-weight: bold;display: inline-block;line-height: 1.2em;}#sk-container-id-1 div.sk-label-container {text-align: center;}#sk-container-id-1 div.sk-container {/* jupyter's `normalize.less` sets `[hidden] { display: none; }` but bootstrap.min.css set `[hidden] { display: none !important; }` so we also need the `!important` here to be able to override the default hidden behavior on the sphinx rendered scikit-learn.org. See: https://github.com/scikit-learn/scikit-learn/issues/21755 */display: inline-block !important;position: relative;}#sk-container-id-1 div.sk-text-repr-fallback {display: none;}</style><div id=\"sk-container-id-1\" class=\"sk-top-container\"><div class=\"sk-text-repr-fallback\"><pre>RandomForestClassifier(criterion=&#x27;entropy&#x27;, min_samples_split=5)</pre><b>In a Jupyter environment, please rerun this cell to show the HTML representation or trust the notebook. <br />On GitHub, the HTML representation is unable to render, please try loading this page with nbviewer.org.</b></div><div class=\"sk-container\" hidden><div class=\"sk-item\"><div class=\"sk-estimator sk-toggleable\"><input class=\"sk-toggleable__control sk-hidden--visually\" id=\"sk-estimator-id-1\" type=\"checkbox\" checked><label for=\"sk-estimator-id-1\" class=\"sk-toggleable__label sk-toggleable__label-arrow\">RandomForestClassifier</label><div class=\"sk-toggleable__content\"><pre>RandomForestClassifier(criterion=&#x27;entropy&#x27;, min_samples_split=5)</pre></div></div></div></div></div>"
      ],
      "text/plain": [
       "RandomForestClassifier(criterion='entropy', min_samples_split=5)"
      ]
     },
     "execution_count": 26,
     "metadata": {},
     "output_type": "execute_result"
    }
   ],
   "source": [
    "from sklearn.ensemble import RandomForestClassifier\n",
    "random_forest_var = RandomForestClassifier(criterion = 'entropy', min_samples_leaf = 1, min_samples_split= 5, n_estimators = 100)\n",
    "random_forest_var.fit(X_census_treinamento_var, y_census_treinamento_var)"
   ]
  },
  {
   "cell_type": "code",
   "execution_count": 27,
   "id": "21d3e48e-3f5d-4b44-a278-a4ee65d6a044",
   "metadata": {},
   "outputs": [
    {
     "data": {
      "text/plain": [
       "0.8192425793244626"
      ]
     },
     "execution_count": 27,
     "metadata": {},
     "output_type": "execute_result"
    }
   ],
   "source": [
    "from sklearn.metrics import accuracy_score, classification_report\n",
    "previsoes = random_forest_var.predict(X_census_teste_var)\n",
    "accuracy_score(y_census_teste_var, previsoes)"
   ]
  },
  {
   "cell_type": "markdown",
   "id": "d30f2354-f1c5-461b-ad53-4ab04d89f228",
   "metadata": {},
   "source": [
    "## Extra free"
   ]
  },
  {
   "cell_type": "code",
   "execution_count": 28,
   "id": "0652e3a1-27af-4346-8a5d-0047c54cba0a",
   "metadata": {},
   "outputs": [],
   "source": [
    " from sklearn.ensemble import ExtraTreesClassifier"
   ]
  },
  {
   "cell_type": "code",
   "execution_count": 29,
   "id": "da98aa86-e957-41ae-b556-25449a2b1713",
   "metadata": {},
   "outputs": [
    {
     "data": {
      "text/plain": [
       "(32561, 14)"
      ]
     },
     "execution_count": 29,
     "metadata": {},
     "output_type": "execute_result"
    }
   ],
   "source": [
    "X_census_scaler.shape"
   ]
  },
  {
   "cell_type": "code",
   "execution_count": 30,
   "id": "1e222f61-5472-4f8c-bf7b-7cab300ff1cb",
   "metadata": {},
   "outputs": [
    {
     "data": {
      "text/html": [
       "<style>#sk-container-id-2 {color: black;background-color: white;}#sk-container-id-2 pre{padding: 0;}#sk-container-id-2 div.sk-toggleable {background-color: white;}#sk-container-id-2 label.sk-toggleable__label {cursor: pointer;display: block;width: 100%;margin-bottom: 0;padding: 0.3em;box-sizing: border-box;text-align: center;}#sk-container-id-2 label.sk-toggleable__label-arrow:before {content: \"▸\";float: left;margin-right: 0.25em;color: #696969;}#sk-container-id-2 label.sk-toggleable__label-arrow:hover:before {color: black;}#sk-container-id-2 div.sk-estimator:hover label.sk-toggleable__label-arrow:before {color: black;}#sk-container-id-2 div.sk-toggleable__content {max-height: 0;max-width: 0;overflow: hidden;text-align: left;background-color: #f0f8ff;}#sk-container-id-2 div.sk-toggleable__content pre {margin: 0.2em;color: black;border-radius: 0.25em;background-color: #f0f8ff;}#sk-container-id-2 input.sk-toggleable__control:checked~div.sk-toggleable__content {max-height: 200px;max-width: 100%;overflow: auto;}#sk-container-id-2 input.sk-toggleable__control:checked~label.sk-toggleable__label-arrow:before {content: \"▾\";}#sk-container-id-2 div.sk-estimator input.sk-toggleable__control:checked~label.sk-toggleable__label {background-color: #d4ebff;}#sk-container-id-2 div.sk-label input.sk-toggleable__control:checked~label.sk-toggleable__label {background-color: #d4ebff;}#sk-container-id-2 input.sk-hidden--visually {border: 0;clip: rect(1px 1px 1px 1px);clip: rect(1px, 1px, 1px, 1px);height: 1px;margin: -1px;overflow: hidden;padding: 0;position: absolute;width: 1px;}#sk-container-id-2 div.sk-estimator {font-family: monospace;background-color: #f0f8ff;border: 1px dotted black;border-radius: 0.25em;box-sizing: border-box;margin-bottom: 0.5em;}#sk-container-id-2 div.sk-estimator:hover {background-color: #d4ebff;}#sk-container-id-2 div.sk-parallel-item::after {content: \"\";width: 100%;border-bottom: 1px solid gray;flex-grow: 1;}#sk-container-id-2 div.sk-label:hover label.sk-toggleable__label {background-color: #d4ebff;}#sk-container-id-2 div.sk-serial::before {content: \"\";position: absolute;border-left: 1px solid gray;box-sizing: border-box;top: 0;bottom: 0;left: 50%;z-index: 0;}#sk-container-id-2 div.sk-serial {display: flex;flex-direction: column;align-items: center;background-color: white;padding-right: 0.2em;padding-left: 0.2em;position: relative;}#sk-container-id-2 div.sk-item {position: relative;z-index: 1;}#sk-container-id-2 div.sk-parallel {display: flex;align-items: stretch;justify-content: center;background-color: white;position: relative;}#sk-container-id-2 div.sk-item::before, #sk-container-id-2 div.sk-parallel-item::before {content: \"\";position: absolute;border-left: 1px solid gray;box-sizing: border-box;top: 0;bottom: 0;left: 50%;z-index: -1;}#sk-container-id-2 div.sk-parallel-item {display: flex;flex-direction: column;z-index: 1;position: relative;background-color: white;}#sk-container-id-2 div.sk-parallel-item:first-child::after {align-self: flex-end;width: 50%;}#sk-container-id-2 div.sk-parallel-item:last-child::after {align-self: flex-start;width: 50%;}#sk-container-id-2 div.sk-parallel-item:only-child::after {width: 0;}#sk-container-id-2 div.sk-dashed-wrapped {border: 1px dashed gray;margin: 0 0.4em 0.5em 0.4em;box-sizing: border-box;padding-bottom: 0.4em;background-color: white;}#sk-container-id-2 div.sk-label label {font-family: monospace;font-weight: bold;display: inline-block;line-height: 1.2em;}#sk-container-id-2 div.sk-label-container {text-align: center;}#sk-container-id-2 div.sk-container {/* jupyter's `normalize.less` sets `[hidden] { display: none; }` but bootstrap.min.css set `[hidden] { display: none !important; }` so we also need the `!important` here to be able to override the default hidden behavior on the sphinx rendered scikit-learn.org. See: https://github.com/scikit-learn/scikit-learn/issues/21755 */display: inline-block !important;position: relative;}#sk-container-id-2 div.sk-text-repr-fallback {display: none;}</style><div id=\"sk-container-id-2\" class=\"sk-top-container\"><div class=\"sk-text-repr-fallback\"><pre>ExtraTreesClassifier()</pre><b>In a Jupyter environment, please rerun this cell to show the HTML representation or trust the notebook. <br />On GitHub, the HTML representation is unable to render, please try loading this page with nbviewer.org.</b></div><div class=\"sk-container\" hidden><div class=\"sk-item\"><div class=\"sk-estimator sk-toggleable\"><input class=\"sk-toggleable__control sk-hidden--visually\" id=\"sk-estimator-id-2\" type=\"checkbox\" checked><label for=\"sk-estimator-id-2\" class=\"sk-toggleable__label sk-toggleable__label-arrow\">ExtraTreesClassifier</label><div class=\"sk-toggleable__content\"><pre>ExtraTreesClassifier()</pre></div></div></div></div></div>"
      ],
      "text/plain": [
       "ExtraTreesClassifier()"
      ]
     },
     "execution_count": 30,
     "metadata": {},
     "output_type": "execute_result"
    }
   ],
   "source": [
    "selecao = ExtraTreesClassifier()\n",
    "selecao.fit(X_census_scaler, y_census)"
   ]
  },
  {
   "cell_type": "code",
   "execution_count": 31,
   "id": "901e8aab-3660-433b-b833-d2c9462bde96",
   "metadata": {},
   "outputs": [
    {
     "data": {
      "text/plain": [
       "Index(['age', 'workclass', 'final-weight', 'education', 'education-num',\n",
       "       'marital-status', 'occupation', 'relationship', 'race', 'sex',\n",
       "       'capital-gain', 'capital-loos', 'hour-per-week', 'native-country'],\n",
       "      dtype='object')"
      ]
     },
     "execution_count": 31,
     "metadata": {},
     "output_type": "execute_result"
    }
   ],
   "source": [
    "colunas"
   ]
  },
  {
   "cell_type": "code",
   "execution_count": 32,
   "id": "50008398-3b8f-4e10-a2a1-69fe9d5c7587",
   "metadata": {},
   "outputs": [
    {
     "data": {
      "text/plain": [
       "array([0.15604971, 0.04523421, 0.16362563, 0.0385891 , 0.08678161,\n",
       "       0.08307979, 0.07597193, 0.08384875, 0.01465851, 0.02718377,\n",
       "       0.08593771, 0.02797539, 0.09326345, 0.01780044])"
      ]
     },
     "execution_count": 32,
     "metadata": {},
     "output_type": "execute_result"
    }
   ],
   "source": [
    "importancias = selecao.feature_importances_\n",
    "importancias"
   ]
  },
  {
   "cell_type": "code",
   "execution_count": 33,
   "id": "57323604-32fb-4d4e-976d-736babf40279",
   "metadata": {},
   "outputs": [
    {
     "data": {
      "text/plain": [
       "1.0"
      ]
     },
     "execution_count": 33,
     "metadata": {},
     "output_type": "execute_result"
    }
   ],
   "source": [
    "importancias.sum()"
   ]
  },
  {
   "cell_type": "code",
   "execution_count": 34,
   "id": "2948ba00-0716-4432-a737-54f0e6474be3",
   "metadata": {},
   "outputs": [],
   "source": [
    "indices = []\n",
    "for i in range(len(importancias)):\n",
    "    #print(i)\n",
    "    if importancias[i] >= 0.029:\n",
    "        indices.append(i)"
   ]
  },
  {
   "cell_type": "code",
   "execution_count": 35,
   "id": "83cb2a30-c6d4-415a-a822-74e4f01213ee",
   "metadata": {},
   "outputs": [
    {
     "data": {
      "text/plain": [
       "[0, 1, 2, 3, 4, 5, 6, 7, 10, 12]"
      ]
     },
     "execution_count": 35,
     "metadata": {},
     "output_type": "execute_result"
    }
   ],
   "source": [
    "indices"
   ]
  },
  {
   "cell_type": "code",
   "execution_count": 36,
   "id": "f557d778-cb32-4195-8561-425dbe786b60",
   "metadata": {},
   "outputs": [
    {
     "data": {
      "text/plain": [
       "Index(['age', 'workclass', 'final-weight', 'education', 'education-num',\n",
       "       'marital-status', 'occupation', 'relationship', 'capital-gain',\n",
       "       'hour-per-week'],\n",
       "      dtype='object')"
      ]
     },
     "execution_count": 36,
     "metadata": {},
     "output_type": "execute_result"
    }
   ],
   "source": [
    "colunas[indices]"
   ]
  },
  {
   "cell_type": "code",
   "execution_count": 37,
   "id": "b3d7a838-d640-48b8-8398-ee15f08ddcc8",
   "metadata": {},
   "outputs": [
    {
     "data": {
      "text/plain": [
       "array([[39, 7, 77516, ..., 1, 2174, 40],\n",
       "       [50, 6, 83311, ..., 0, 0, 13],\n",
       "       [38, 4, 215646, ..., 1, 0, 40],\n",
       "       ...,\n",
       "       [58, 4, 151910, ..., 4, 0, 40],\n",
       "       [22, 4, 201490, ..., 3, 0, 20],\n",
       "       [52, 5, 287927, ..., 5, 15024, 40]], dtype=object)"
      ]
     },
     "execution_count": 37,
     "metadata": {},
     "output_type": "execute_result"
    }
   ],
   "source": [
    "X_census_extra = X_census[:, indices]\n",
    "X_census_extra"
   ]
  },
  {
   "cell_type": "code",
   "execution_count": 38,
   "id": "af3e6d72-a69c-49cc-8743-04435f9af358",
   "metadata": {},
   "outputs": [
    {
     "data": {
      "text/plain": [
       "array([[0.0000e+00, 0.0000e+00, 0.0000e+00, ..., 1.3000e+01, 2.1740e+03,\n",
       "        4.0000e+01],\n",
       "       [0.0000e+00, 0.0000e+00, 0.0000e+00, ..., 1.3000e+01, 0.0000e+00,\n",
       "        1.3000e+01],\n",
       "       [0.0000e+00, 0.0000e+00, 0.0000e+00, ..., 9.0000e+00, 0.0000e+00,\n",
       "        4.0000e+01],\n",
       "       ...,\n",
       "       [0.0000e+00, 0.0000e+00, 0.0000e+00, ..., 9.0000e+00, 0.0000e+00,\n",
       "        4.0000e+01],\n",
       "       [0.0000e+00, 0.0000e+00, 0.0000e+00, ..., 9.0000e+00, 0.0000e+00,\n",
       "        2.0000e+01],\n",
       "       [0.0000e+00, 0.0000e+00, 0.0000e+00, ..., 9.0000e+00, 1.5024e+04,\n",
       "        4.0000e+01]])"
      ]
     },
     "execution_count": 38,
     "metadata": {},
     "output_type": "execute_result"
    }
   ],
   "source": [
    "from sklearn.preprocessing import OneHotEncoder\n",
    "from sklearn.compose import ColumnTransformer\n",
    "onehotencoder = ColumnTransformer(transformers=[(\"OneHot\", OneHotEncoder(), [1,3,5,6,7])], remainder='passthrough')\n",
    "X_census_extra = onehotencoder.fit_transform(X_census_extra).toarray()\n",
    "X_census_extra"
   ]
  },
  {
   "cell_type": "code",
   "execution_count": 39,
   "id": "b1f41817-12c5-4a52-b8f1-b2f191d6309d",
   "metadata": {},
   "outputs": [
    {
     "data": {
      "text/plain": [
       "(32561, 58)"
      ]
     },
     "execution_count": 39,
     "metadata": {},
     "output_type": "execute_result"
    }
   ],
   "source": [
    "X_census_extra.shape"
   ]
  },
  {
   "cell_type": "code",
   "execution_count": 40,
   "id": "58fdd2f4-9bd8-4919-a47a-3b61c09711e5",
   "metadata": {},
   "outputs": [
    {
     "data": {
      "text/plain": [
       "((27676, 58), (4885, 58))"
      ]
     },
     "execution_count": 40,
     "metadata": {},
     "output_type": "execute_result"
    }
   ],
   "source": [
    "from sklearn.model_selection import train_test_split\n",
    "X_census_treinamento_extra, X_census_teste_extra, y_census_treinamento_extra, y_census_teste_extra = train_test_split(X_census_extra, y_census, test_size=0.15, random_state=0)\n",
    "X_census_treinamento_extra.shape, X_census_teste_extra.shape"
   ]
  },
  {
   "cell_type": "code",
   "execution_count": 41,
   "id": "e85d98b1-54bd-4ce2-b59e-047b592078b7",
   "metadata": {},
   "outputs": [
    {
     "data": {
      "text/html": [
       "<style>#sk-container-id-3 {color: black;background-color: white;}#sk-container-id-3 pre{padding: 0;}#sk-container-id-3 div.sk-toggleable {background-color: white;}#sk-container-id-3 label.sk-toggleable__label {cursor: pointer;display: block;width: 100%;margin-bottom: 0;padding: 0.3em;box-sizing: border-box;text-align: center;}#sk-container-id-3 label.sk-toggleable__label-arrow:before {content: \"▸\";float: left;margin-right: 0.25em;color: #696969;}#sk-container-id-3 label.sk-toggleable__label-arrow:hover:before {color: black;}#sk-container-id-3 div.sk-estimator:hover label.sk-toggleable__label-arrow:before {color: black;}#sk-container-id-3 div.sk-toggleable__content {max-height: 0;max-width: 0;overflow: hidden;text-align: left;background-color: #f0f8ff;}#sk-container-id-3 div.sk-toggleable__content pre {margin: 0.2em;color: black;border-radius: 0.25em;background-color: #f0f8ff;}#sk-container-id-3 input.sk-toggleable__control:checked~div.sk-toggleable__content {max-height: 200px;max-width: 100%;overflow: auto;}#sk-container-id-3 input.sk-toggleable__control:checked~label.sk-toggleable__label-arrow:before {content: \"▾\";}#sk-container-id-3 div.sk-estimator input.sk-toggleable__control:checked~label.sk-toggleable__label {background-color: #d4ebff;}#sk-container-id-3 div.sk-label input.sk-toggleable__control:checked~label.sk-toggleable__label {background-color: #d4ebff;}#sk-container-id-3 input.sk-hidden--visually {border: 0;clip: rect(1px 1px 1px 1px);clip: rect(1px, 1px, 1px, 1px);height: 1px;margin: -1px;overflow: hidden;padding: 0;position: absolute;width: 1px;}#sk-container-id-3 div.sk-estimator {font-family: monospace;background-color: #f0f8ff;border: 1px dotted black;border-radius: 0.25em;box-sizing: border-box;margin-bottom: 0.5em;}#sk-container-id-3 div.sk-estimator:hover {background-color: #d4ebff;}#sk-container-id-3 div.sk-parallel-item::after {content: \"\";width: 100%;border-bottom: 1px solid gray;flex-grow: 1;}#sk-container-id-3 div.sk-label:hover label.sk-toggleable__label {background-color: #d4ebff;}#sk-container-id-3 div.sk-serial::before {content: \"\";position: absolute;border-left: 1px solid gray;box-sizing: border-box;top: 0;bottom: 0;left: 50%;z-index: 0;}#sk-container-id-3 div.sk-serial {display: flex;flex-direction: column;align-items: center;background-color: white;padding-right: 0.2em;padding-left: 0.2em;position: relative;}#sk-container-id-3 div.sk-item {position: relative;z-index: 1;}#sk-container-id-3 div.sk-parallel {display: flex;align-items: stretch;justify-content: center;background-color: white;position: relative;}#sk-container-id-3 div.sk-item::before, #sk-container-id-3 div.sk-parallel-item::before {content: \"\";position: absolute;border-left: 1px solid gray;box-sizing: border-box;top: 0;bottom: 0;left: 50%;z-index: -1;}#sk-container-id-3 div.sk-parallel-item {display: flex;flex-direction: column;z-index: 1;position: relative;background-color: white;}#sk-container-id-3 div.sk-parallel-item:first-child::after {align-self: flex-end;width: 50%;}#sk-container-id-3 div.sk-parallel-item:last-child::after {align-self: flex-start;width: 50%;}#sk-container-id-3 div.sk-parallel-item:only-child::after {width: 0;}#sk-container-id-3 div.sk-dashed-wrapped {border: 1px dashed gray;margin: 0 0.4em 0.5em 0.4em;box-sizing: border-box;padding-bottom: 0.4em;background-color: white;}#sk-container-id-3 div.sk-label label {font-family: monospace;font-weight: bold;display: inline-block;line-height: 1.2em;}#sk-container-id-3 div.sk-label-container {text-align: center;}#sk-container-id-3 div.sk-container {/* jupyter's `normalize.less` sets `[hidden] { display: none; }` but bootstrap.min.css set `[hidden] { display: none !important; }` so we also need the `!important` here to be able to override the default hidden behavior on the sphinx rendered scikit-learn.org. See: https://github.com/scikit-learn/scikit-learn/issues/21755 */display: inline-block !important;position: relative;}#sk-container-id-3 div.sk-text-repr-fallback {display: none;}</style><div id=\"sk-container-id-3\" class=\"sk-top-container\"><div class=\"sk-text-repr-fallback\"><pre>RandomForestClassifier(criterion=&#x27;entropy&#x27;, min_samples_split=5)</pre><b>In a Jupyter environment, please rerun this cell to show the HTML representation or trust the notebook. <br />On GitHub, the HTML representation is unable to render, please try loading this page with nbviewer.org.</b></div><div class=\"sk-container\" hidden><div class=\"sk-item\"><div class=\"sk-estimator sk-toggleable\"><input class=\"sk-toggleable__control sk-hidden--visually\" id=\"sk-estimator-id-3\" type=\"checkbox\" checked><label for=\"sk-estimator-id-3\" class=\"sk-toggleable__label sk-toggleable__label-arrow\">RandomForestClassifier</label><div class=\"sk-toggleable__content\"><pre>RandomForestClassifier(criterion=&#x27;entropy&#x27;, min_samples_split=5)</pre></div></div></div></div></div>"
      ],
      "text/plain": [
       "RandomForestClassifier(criterion='entropy', min_samples_split=5)"
      ]
     },
     "execution_count": 41,
     "metadata": {},
     "output_type": "execute_result"
    }
   ],
   "source": [
    "from sklearn.ensemble import RandomForestClassifier\n",
    "random_forest_extra = RandomForestClassifier(criterion = 'entropy', min_samples_leaf =  1, min_samples_split = 5, n_estimators = 100)\n",
    "random_forest_extra.fit(X_census_treinamento_extra, y_census_treinamento_extra)"
   ]
  },
  {
   "cell_type": "code",
   "execution_count": 42,
   "id": "f69ee970-f091-4683-b3ca-083836b88bb7",
   "metadata": {},
   "outputs": [
    {
     "data": {
      "text/plain": [
       "0.8468781985670419"
      ]
     },
     "execution_count": 42,
     "metadata": {},
     "output_type": "execute_result"
    }
   ],
   "source": [
    "from sklearn.metrics import accuracy_score, classification_report\n",
    "previsoes = random_forest_extra.predict(X_census_teste_extra)\n",
    "accuracy_score(y_census_teste_extra, previsoes)"
   ]
  }
 ],
 "metadata": {
  "kernelspec": {
   "display_name": "Python 3 (ipykernel)",
   "language": "python",
   "name": "python3"
  },
  "language_info": {
   "codemirror_mode": {
    "name": "ipython",
    "version": 3
   },
   "file_extension": ".py",
   "mimetype": "text/x-python",
   "name": "python",
   "nbconvert_exporter": "python",
   "pygments_lexer": "ipython3",
   "version": "3.11.7"
  }
 },
 "nbformat": 4,
 "nbformat_minor": 5
}
