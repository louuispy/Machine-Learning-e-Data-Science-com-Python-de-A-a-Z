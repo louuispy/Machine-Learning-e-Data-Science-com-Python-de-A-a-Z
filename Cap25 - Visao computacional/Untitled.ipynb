{
 "cells": [
  {
   "cell_type": "markdown",
   "id": "2c601022-a79e-43d2-a237-4aa1e32ded5d",
   "metadata": {},
   "source": [
    "# Machine Learning e Data Science com Python de A à Z"
   ]
  },
  {
   "cell_type": "markdown",
   "id": "8c502b79-c036-436a-bd52-c6fc63ea764d",
   "metadata": {},
   "source": [
    "# Rastreamento de objetos com Python"
   ]
  },
  {
   "cell_type": "code",
   "execution_count": 3,
   "id": "8614044b-9cef-4c10-8c50-a97526ab24db",
   "metadata": {},
   "outputs": [],
   "source": [
    "import cv2"
   ]
  },
  {
   "cell_type": "code",
   "execution_count": 4,
   "id": "af7163bf-6456-4aca-929e-305fa1dad5a5",
   "metadata": {},
   "outputs": [
    {
     "data": {
      "text/plain": [
       "'4.9.0'"
      ]
     },
     "execution_count": 4,
     "metadata": {},
     "output_type": "execute_result"
    }
   ],
   "source": [
    "cv2.__version__"
   ]
  },
  {
   "cell_type": "code",
   "execution_count": 6,
   "id": "33bebe06-efad-45b0-b4ed-37e3d9cfa94a",
   "metadata": {},
   "outputs": [],
   "source": [
    "rastreador = cv2.TrackerCSRT_create()"
   ]
  },
  {
   "cell_type": "code",
   "execution_count": 7,
   "id": "2b9d1d5e-eb88-417a-bd20-bf93947fc4ca",
   "metadata": {},
   "outputs": [
    {
     "name": "stdout",
     "output_type": "stream",
     "text": [
      "(281, 107, 122, 90)\n"
     ]
    }
   ],
   "source": [
    "# Importação do vídeo\n",
    "video = cv2.VideoCapture('rua.mp4')\n",
    "\n",
    "# ok = Indica se o vídeo foi carregado corretamente\n",
    "# frame = primeiro frame do vídeo\n",
    "ok, frame = video.read()\n",
    "\n",
    "bbox = cv2.selectROI(frame)\n",
    "print(bbox)"
   ]
  },
  {
   "cell_type": "code",
   "execution_count": 1,
   "id": "ced92313-ddf6-4489-afb9-b35b3ab6a801",
   "metadata": {},
   "outputs": [
    {
     "ename": "NameError",
     "evalue": "name 'rastreador' is not defined",
     "output_type": "error",
     "traceback": [
      "\u001b[1;31m---------------------------------------------------------------------------\u001b[0m",
      "\u001b[1;31mNameError\u001b[0m                                 Traceback (most recent call last)",
      "Cell \u001b[1;32mIn[1], line 1\u001b[0m\n\u001b[1;32m----> 1\u001b[0m ok \u001b[38;5;241m=\u001b[39m rastreador\u001b[38;5;241m.\u001b[39minit(frame, bbox)\n",
      "\u001b[1;31mNameError\u001b[0m: name 'rastreador' is not defined"
     ]
    }
   ],
   "source": [
    "ok = rastreador.init(frame, bbox)\n",
    "print(ok)"
   ]
  },
  {
   "cell_type": "code",
   "execution_count": null,
   "id": "7b085f25-c25e-435d-94b1-c06bf4dcf041",
   "metadata": {},
   "outputs": [],
   "source": [
    "while True:\n",
    "    ok, frame = video.read()\n",
    "    "
   ]
  }
 ],
 "metadata": {
  "kernelspec": {
   "display_name": "Python 3 (ipykernel)",
   "language": "python",
   "name": "python3"
  },
  "language_info": {
   "codemirror_mode": {
    "name": "ipython",
    "version": 3
   },
   "file_extension": ".py",
   "mimetype": "text/x-python",
   "name": "python",
   "nbconvert_exporter": "python",
   "pygments_lexer": "ipython3",
   "version": "3.11.7"
  }
 },
 "nbformat": 4,
 "nbformat_minor": 5
}
