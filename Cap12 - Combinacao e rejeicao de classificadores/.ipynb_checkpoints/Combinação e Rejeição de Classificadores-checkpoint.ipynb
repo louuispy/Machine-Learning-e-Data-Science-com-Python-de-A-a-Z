{
 "cells": [
  {
   "cell_type": "markdown",
   "id": "2e8f3d57",
   "metadata": {},
   "source": [
    "# Machine Learning e Data Science com Python de A à Z"
   ]
  },
  {
   "cell_type": "markdown",
   "id": "c8077e1a",
   "metadata": {},
   "source": [
    "# Combinação e Rejeição de Classificadores"
   ]
  },
  {
   "cell_type": "code",
   "execution_count": 1,
   "id": "cf0b5807",
   "metadata": {},
   "outputs": [],
   "source": [
    "import pandas as pd\n",
    "import numpy as np\n",
    "import matplotlib.pyplot as plt\n",
    "import seaborn as sns"
   ]
  },
  {
   "cell_type": "code",
   "execution_count": 2,
   "id": "58b590f7",
   "metadata": {},
   "outputs": [],
   "source": [
    "import pickle\n",
    "with open('credit.pkl', 'rb') as f:\n",
    "    X_credit_treinamento, y_credit_treinamento, X_credit_teste, y_credit_teste = pickle.load(f)"
   ]
  },
  {
   "cell_type": "code",
   "execution_count": 3,
   "id": "628e018f",
   "metadata": {},
   "outputs": [],
   "source": [
    "rede_neural = pickle.load(open('rede_neural_finalizado.sav', 'rb'))"
   ]
  },
  {
   "cell_type": "code",
   "execution_count": 4,
   "id": "f9c22ceb",
   "metadata": {},
   "outputs": [],
   "source": [
    "random_forest = pickle.load(open('random_forest_finalizado.sav', 'rb'))"
   ]
  },
  {
   "cell_type": "code",
   "execution_count": 5,
   "id": "1cacd4ad",
   "metadata": {},
   "outputs": [],
   "source": [
    "arvore = pickle.load(open('arvore_finalizado.sav', 'rb'))"
   ]
  },
  {
   "cell_type": "code",
   "execution_count": 6,
   "id": "97e5c39f",
   "metadata": {},
   "outputs": [],
   "source": [
    "X_credit = np.concatenate((X_credit_treinamento, X_credit_teste))"
   ]
  },
  {
   "cell_type": "code",
   "execution_count": 7,
   "id": "b21e240e",
   "metadata": {},
   "outputs": [],
   "source": [
    "y_credit = np.concatenate((y_credit_treinamento, y_credit_teste))"
   ]
  },
  {
   "cell_type": "markdown",
   "id": "13d71677",
   "metadata": {},
   "source": [
    "## Combinação de classificadores"
   ]
  },
  {
   "cell_type": "code",
   "execution_count": 8,
   "id": "b3781f9a",
   "metadata": {},
   "outputs": [
    {
     "data": {
      "text/plain": [
       "(array([[-1.3754462 ,  0.50631087,  0.10980934]]), (1, 3))"
      ]
     },
     "execution_count": 8,
     "metadata": {},
     "output_type": "execute_result"
    }
   ],
   "source": [
    "novo_registro = X_credit[0]\n",
    "novo_registro = novo_registro.reshape(1, -1)\n",
    "novo_registro, novo_registro.shape"
   ]
  },
  {
   "cell_type": "code",
   "execution_count": 9,
   "id": "36b07c6a",
   "metadata": {},
   "outputs": [],
   "source": [
    "resposta_rede_neural = rede_neural.predict(novo_registro)"
   ]
  },
  {
   "cell_type": "code",
   "execution_count": 10,
   "id": "2b9bab97",
   "metadata": {},
   "outputs": [],
   "source": [
    "resposta_random_forest = random_forest.predict(novo_registro)"
   ]
  },
  {
   "cell_type": "code",
   "execution_count": 11,
   "id": "d94cfc05",
   "metadata": {},
   "outputs": [],
   "source": [
    "resposta_arvore = arvore.predict(novo_registro)"
   ]
  },
  {
   "cell_type": "code",
   "execution_count": 12,
   "id": "ae3beb69",
   "metadata": {},
   "outputs": [
    {
     "data": {
      "text/plain": [
       "(0, 0, 0)"
      ]
     },
     "execution_count": 12,
     "metadata": {},
     "output_type": "execute_result"
    }
   ],
   "source": [
    "resposta_rede_neural[0], resposta_random_forest[0], resposta_arvore[0]"
   ]
  },
  {
   "cell_type": "code",
   "execution_count": 13,
   "id": "e56388da",
   "metadata": {},
   "outputs": [
    {
     "name": "stdout",
     "output_type": "stream",
     "text": [
      "Cliente pagará o empréstimo\n"
     ]
    }
   ],
   "source": [
    "paga = 0\n",
    "nao_paga = 0\n",
    "\n",
    "if resposta_rede_neural[0] == 1:\n",
    "    nao_paga += 1\n",
    "else:\n",
    "    paga += 1\n",
    "    \n",
    "if resposta_random_forest[0] == 1:\n",
    "    nao_paga += 1\n",
    "else:\n",
    "    paga += 1\n",
    "    \n",
    "if resposta_arvore[0] == 1:\n",
    "    nao_paga += 1\n",
    "else:\n",
    "    paga += 1\n",
    "    \n",
    "if paga > nao_paga:\n",
    "    print('Cliente pagará o empréstimo')\n",
    "elif paga == nao_paga:\n",
    "    print('Empate')\n",
    "else:\n",
    "    print('Cliente não pagará o empréstimo')"
   ]
  },
  {
   "cell_type": "markdown",
   "id": "0d5bf087",
   "metadata": {},
   "source": [
    "## Rejeição de classificadores"
   ]
  },
  {
   "cell_type": "code",
   "execution_count": 14,
   "id": "cf380967",
   "metadata": {},
   "outputs": [
    {
     "data": {
      "text/plain": [
       "(array([[-1.03572293, -0.93978122,  0.04244312]]), (1, 3))"
      ]
     },
     "execution_count": 14,
     "metadata": {},
     "output_type": "execute_result"
    }
   ],
   "source": [
    "novo_registro = X_credit[1999]\n",
    "novo_registro = novo_registro.reshape(1, -1)\n",
    "novo_registro, novo_registro.shape"
   ]
  },
  {
   "cell_type": "code",
   "execution_count": 15,
   "id": "f55ec8be",
   "metadata": {},
   "outputs": [],
   "source": [
    "resposta_rede_neural = rede_neural.predict(novo_registro)\n",
    "resposta_random_forest = random_forest.predict(novo_registro)\n",
    "resposta_arvore = arvore.predict(novo_registro)"
   ]
  },
  {
   "cell_type": "code",
   "execution_count": 16,
   "id": "436375d5",
   "metadata": {},
   "outputs": [
    {
     "data": {
      "text/plain": [
       "(1, 1, 1)"
      ]
     },
     "execution_count": 16,
     "metadata": {},
     "output_type": "execute_result"
    }
   ],
   "source": [
    "resposta_rede_neural[0], resposta_random_forest[0], resposta_arvore[0]"
   ]
  },
  {
   "cell_type": "code",
   "execution_count": 17,
   "id": "3de5ccff",
   "metadata": {},
   "outputs": [
    {
     "data": {
      "text/plain": [
       "array([[5.45884124e-05, 9.99945412e-01]])"
      ]
     },
     "execution_count": 17,
     "metadata": {},
     "output_type": "execute_result"
    }
   ],
   "source": [
    "probabilidade_rede_neural = rede_neural.predict_proba(novo_registro)\n",
    "probabilidade_rede_neural"
   ]
  },
  {
   "cell_type": "code",
   "execution_count": 18,
   "id": "e0669a98",
   "metadata": {},
   "outputs": [
    {
     "data": {
      "text/plain": [
       "0.9999454115876308"
      ]
     },
     "execution_count": 18,
     "metadata": {},
     "output_type": "execute_result"
    }
   ],
   "source": [
    "confianca_rede_neural = probabilidade_rede_neural.max()\n",
    "confianca_rede_neural"
   ]
  },
  {
   "cell_type": "code",
   "execution_count": 19,
   "id": "0f671273",
   "metadata": {},
   "outputs": [
    {
     "data": {
      "text/plain": [
       "array([[0.01333333, 0.98666667]])"
      ]
     },
     "execution_count": 19,
     "metadata": {},
     "output_type": "execute_result"
    }
   ],
   "source": [
    "probabilidade_random_forest = random_forest.predict_proba(novo_registro)\n",
    "probabilidade_random_forest"
   ]
  },
  {
   "cell_type": "code",
   "execution_count": 20,
   "id": "ff5389c9",
   "metadata": {},
   "outputs": [
    {
     "data": {
      "text/plain": [
       "0.9866666666666667"
      ]
     },
     "execution_count": 20,
     "metadata": {},
     "output_type": "execute_result"
    }
   ],
   "source": [
    "confianca_random_forest = probabilidade_random_forest.max()\n",
    "confianca_random_forest"
   ]
  },
  {
   "cell_type": "code",
   "execution_count": 21,
   "id": "d3691da4",
   "metadata": {},
   "outputs": [
    {
     "data": {
      "text/plain": [
       "array([[0., 1.]])"
      ]
     },
     "execution_count": 21,
     "metadata": {},
     "output_type": "execute_result"
    }
   ],
   "source": [
    "probabilidade_arvore = arvore.predict_proba(novo_registro)\n",
    "probabilidade_arvore"
   ]
  },
  {
   "cell_type": "code",
   "execution_count": 22,
   "id": "795cf84e",
   "metadata": {},
   "outputs": [
    {
     "data": {
      "text/plain": [
       "1.0"
      ]
     },
     "execution_count": 22,
     "metadata": {},
     "output_type": "execute_result"
    }
   ],
   "source": [
    "confianca_arvore = probabilidade_arvore.max()\n",
    "confianca_arvore"
   ]
  },
  {
   "cell_type": "code",
   "execution_count": 23,
   "id": "97bf826b",
   "metadata": {},
   "outputs": [
    {
     "name": "stdout",
     "output_type": "stream",
     "text": [
      "Cliente não pagará o empréstimo baseado em 1 algoritmos\n"
     ]
    }
   ],
   "source": [
    "paga = 0\n",
    "nao_paga = 0\n",
    "confianca_minima = 1.0\n",
    "algoritmos = 0\n",
    "\n",
    "if confianca_rede_neural >= confianca_minima:\n",
    "    algoritmos += 1\n",
    "    if resposta_rede_neural[0] == 1:\n",
    "        nao_paga += 1\n",
    "    else:\n",
    "        paga += 1\n",
    "    \n",
    "if confianca_random_forest >= confianca_minima:\n",
    "    algoritmos += 1\n",
    "    if resposta_random_forest[0] == 1:\n",
    "        nao_paga += 1\n",
    "    else:\n",
    "        paga += 1\n",
    "    \n",
    "if confianca_arvore >= confianca_minima:\n",
    "    algoritmos += 1\n",
    "    if resposta_arvore[0] == 1:\n",
    "        nao_paga += 1\n",
    "    else:\n",
    "        paga += 1\n",
    "    \n",
    "if paga > nao_paga:\n",
    "    print(f'Cliente pagará o empréstimo baseado em {algoritmos} algoritmos')\n",
    "elif paga == nao_paga:\n",
    "    print(f'Empate, baseado em {algoritmos} algoritmos')\n",
    "else:\n",
    "    print(f'Cliente não pagará o empréstimo baseado em {algoritmos} algoritmos')"
   ]
  }
 ],
 "metadata": {
  "kernelspec": {
   "display_name": "Python 3 (ipykernel)",
   "language": "python",
   "name": "python3"
  },
  "language_info": {
   "codemirror_mode": {
    "name": "ipython",
    "version": 3
   },
   "file_extension": ".py",
   "mimetype": "text/x-python",
   "name": "python",
   "nbconvert_exporter": "python",
   "pygments_lexer": "ipython3",
   "version": "3.10.9"
  }
 },
 "nbformat": 4,
 "nbformat_minor": 5
}
